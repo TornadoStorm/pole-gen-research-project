{
 "cells": [
  {
   "cell_type": "markdown",
   "metadata": {},
   "source": [
    "# Setup\n",
    "\n",
    "Ensure all dependencies are installed.\n"
   ]
  },
  {
   "cell_type": "code",
   "execution_count": 1,
   "metadata": {
    "scrolled": true,
    "tags": []
   },
   "outputs": [
    {
     "name": "stdout",
     "output_type": "stream",
     "text": [
      "Requirement already satisfied: torch in /opt/miniconda3/lib/python3.11/site-packages (from -r requirements.txt (line 1)) (2.5.1)\n",
      "Requirement already satisfied: torchvision in /opt/miniconda3/lib/python3.11/site-packages (from -r requirements.txt (line 2)) (0.20.1)\n",
      "Requirement already satisfied: torchaudio in /opt/miniconda3/lib/python3.11/site-packages (from -r requirements.txt (line 3)) (2.5.1)\n",
      "Requirement already satisfied: tqdm in /opt/miniconda3/lib/python3.11/site-packages (from -r requirements.txt (line 4)) (4.65.0)\n",
      "Requirement already satisfied: numpy in /opt/miniconda3/lib/python3.11/site-packages (from -r requirements.txt (line 5)) (2.2.0)\n",
      "Requirement already satisfied: pandas in /opt/miniconda3/lib/python3.11/site-packages (from -r requirements.txt (line 6)) (2.2.3)\n",
      "Requirement already satisfied: plyfile in /opt/miniconda3/lib/python3.11/site-packages (from -r requirements.txt (line 7)) (1.1)\n",
      "Requirement already satisfied: ipykernel in /opt/miniconda3/lib/python3.11/site-packages (from -r requirements.txt (line 8)) (6.29.5)\n",
      "Requirement already satisfied: requests in /opt/miniconda3/lib/python3.11/site-packages (from -r requirements.txt (line 9)) (2.31.0)\n",
      "Requirement already satisfied: open3d in /opt/miniconda3/lib/python3.11/site-packages (from -r requirements.txt (line 10)) (0.18.0)\n",
      "Requirement already satisfied: matplotlib in /opt/miniconda3/lib/python3.11/site-packages (from -r requirements.txt (line 11)) (3.9.3)\n",
      "Requirement already satisfied: filelock in /opt/miniconda3/lib/python3.11/site-packages (from torch->-r requirements.txt (line 1)) (3.16.1)\n",
      "Requirement already satisfied: typing-extensions>=4.8.0 in /opt/miniconda3/lib/python3.11/site-packages (from torch->-r requirements.txt (line 1)) (4.12.2)\n",
      "Requirement already satisfied: networkx in /opt/miniconda3/lib/python3.11/site-packages (from torch->-r requirements.txt (line 1)) (3.4.2)\n",
      "Requirement already satisfied: jinja2 in /opt/miniconda3/lib/python3.11/site-packages (from torch->-r requirements.txt (line 1)) (3.1.4)\n",
      "Requirement already satisfied: fsspec in /opt/miniconda3/lib/python3.11/site-packages (from torch->-r requirements.txt (line 1)) (2024.10.0)\n",
      "Requirement already satisfied: nvidia-cuda-nvrtc-cu12==12.4.127 in /opt/miniconda3/lib/python3.11/site-packages (from torch->-r requirements.txt (line 1)) (12.4.127)\n",
      "Requirement already satisfied: nvidia-cuda-runtime-cu12==12.4.127 in /opt/miniconda3/lib/python3.11/site-packages (from torch->-r requirements.txt (line 1)) (12.4.127)\n",
      "Requirement already satisfied: nvidia-cuda-cupti-cu12==12.4.127 in /opt/miniconda3/lib/python3.11/site-packages (from torch->-r requirements.txt (line 1)) (12.4.127)\n",
      "Requirement already satisfied: nvidia-cudnn-cu12==9.1.0.70 in /opt/miniconda3/lib/python3.11/site-packages (from torch->-r requirements.txt (line 1)) (9.1.0.70)\n",
      "Requirement already satisfied: nvidia-cublas-cu12==12.4.5.8 in /opt/miniconda3/lib/python3.11/site-packages (from torch->-r requirements.txt (line 1)) (12.4.5.8)\n",
      "Requirement already satisfied: nvidia-cufft-cu12==11.2.1.3 in /opt/miniconda3/lib/python3.11/site-packages (from torch->-r requirements.txt (line 1)) (11.2.1.3)\n",
      "Requirement already satisfied: nvidia-curand-cu12==10.3.5.147 in /opt/miniconda3/lib/python3.11/site-packages (from torch->-r requirements.txt (line 1)) (10.3.5.147)\n",
      "Requirement already satisfied: nvidia-cusolver-cu12==11.6.1.9 in /opt/miniconda3/lib/python3.11/site-packages (from torch->-r requirements.txt (line 1)) (11.6.1.9)\n",
      "Requirement already satisfied: nvidia-cusparse-cu12==12.3.1.170 in /opt/miniconda3/lib/python3.11/site-packages (from torch->-r requirements.txt (line 1)) (12.3.1.170)\n",
      "Requirement already satisfied: nvidia-nccl-cu12==2.21.5 in /opt/miniconda3/lib/python3.11/site-packages (from torch->-r requirements.txt (line 1)) (2.21.5)\n",
      "Requirement already satisfied: nvidia-nvtx-cu12==12.4.127 in /opt/miniconda3/lib/python3.11/site-packages (from torch->-r requirements.txt (line 1)) (12.4.127)\n",
      "Requirement already satisfied: nvidia-nvjitlink-cu12==12.4.127 in /opt/miniconda3/lib/python3.11/site-packages (from torch->-r requirements.txt (line 1)) (12.4.127)\n",
      "Requirement already satisfied: triton==3.1.0 in /opt/miniconda3/lib/python3.11/site-packages (from torch->-r requirements.txt (line 1)) (3.1.0)\n",
      "Requirement already satisfied: sympy==1.13.1 in /opt/miniconda3/lib/python3.11/site-packages (from torch->-r requirements.txt (line 1)) (1.13.1)\n",
      "Requirement already satisfied: mpmath<1.4,>=1.1.0 in /opt/miniconda3/lib/python3.11/site-packages (from sympy==1.13.1->torch->-r requirements.txt (line 1)) (1.3.0)\n",
      "Requirement already satisfied: pillow!=8.3.*,>=5.3.0 in /opt/miniconda3/lib/python3.11/site-packages (from torchvision->-r requirements.txt (line 2)) (11.0.0)\n",
      "Requirement already satisfied: python-dateutil>=2.8.2 in /opt/miniconda3/lib/python3.11/site-packages (from pandas->-r requirements.txt (line 6)) (2.9.0.post0)\n",
      "Requirement already satisfied: pytz>=2020.1 in /opt/miniconda3/lib/python3.11/site-packages (from pandas->-r requirements.txt (line 6)) (2024.2)\n",
      "Requirement already satisfied: tzdata>=2022.7 in /opt/miniconda3/lib/python3.11/site-packages (from pandas->-r requirements.txt (line 6)) (2024.2)\n",
      "Requirement already satisfied: comm>=0.1.1 in /opt/miniconda3/lib/python3.11/site-packages (from ipykernel->-r requirements.txt (line 8)) (0.2.2)\n",
      "Requirement already satisfied: debugpy>=1.6.5 in /opt/miniconda3/lib/python3.11/site-packages (from ipykernel->-r requirements.txt (line 8)) (1.8.10)\n",
      "Requirement already satisfied: ipython>=7.23.1 in /opt/miniconda3/lib/python3.11/site-packages (from ipykernel->-r requirements.txt (line 8)) (8.30.0)\n",
      "Requirement already satisfied: jupyter-client>=6.1.12 in /opt/miniconda3/lib/python3.11/site-packages (from ipykernel->-r requirements.txt (line 8)) (8.6.3)\n",
      "Requirement already satisfied: jupyter-core!=5.0.*,>=4.12 in /opt/miniconda3/lib/python3.11/site-packages (from ipykernel->-r requirements.txt (line 8)) (5.7.2)\n",
      "Requirement already satisfied: matplotlib-inline>=0.1 in /opt/miniconda3/lib/python3.11/site-packages (from ipykernel->-r requirements.txt (line 8)) (0.1.7)\n",
      "Requirement already satisfied: nest-asyncio in /opt/miniconda3/lib/python3.11/site-packages (from ipykernel->-r requirements.txt (line 8)) (1.6.0)\n",
      "Requirement already satisfied: packaging in /opt/miniconda3/lib/python3.11/site-packages (from ipykernel->-r requirements.txt (line 8)) (23.2)\n",
      "Requirement already satisfied: psutil in /opt/miniconda3/lib/python3.11/site-packages (from ipykernel->-r requirements.txt (line 8)) (6.1.0)\n",
      "Requirement already satisfied: pyzmq>=24 in /opt/miniconda3/lib/python3.11/site-packages (from ipykernel->-r requirements.txt (line 8)) (25.1.2)\n",
      "Requirement already satisfied: tornado>=6.1 in /opt/miniconda3/lib/python3.11/site-packages (from ipykernel->-r requirements.txt (line 8)) (6.4.2)\n",
      "Requirement already satisfied: traitlets>=5.4.0 in /opt/miniconda3/lib/python3.11/site-packages (from ipykernel->-r requirements.txt (line 8)) (5.14.3)\n",
      "Requirement already satisfied: charset-normalizer<4,>=2 in /opt/miniconda3/lib/python3.11/site-packages (from requests->-r requirements.txt (line 9)) (2.0.4)\n",
      "Requirement already satisfied: idna<4,>=2.5 in /opt/miniconda3/lib/python3.11/site-packages (from requests->-r requirements.txt (line 9)) (3.4)\n",
      "Requirement already satisfied: urllib3<3,>=1.21.1 in /opt/miniconda3/lib/python3.11/site-packages (from requests->-r requirements.txt (line 9)) (2.1.0)\n",
      "Requirement already satisfied: certifi>=2017.4.17 in /opt/miniconda3/lib/python3.11/site-packages (from requests->-r requirements.txt (line 9)) (2024.8.30)\n",
      "Requirement already satisfied: dash>=2.6.0 in /opt/miniconda3/lib/python3.11/site-packages (from open3d->-r requirements.txt (line 10)) (2.18.2)\n",
      "Requirement already satisfied: werkzeug>=2.2.3 in /opt/miniconda3/lib/python3.11/site-packages (from open3d->-r requirements.txt (line 10)) (3.0.6)\n",
      "Requirement already satisfied: nbformat>=5.7.0 in /opt/miniconda3/lib/python3.11/site-packages (from open3d->-r requirements.txt (line 10)) (5.10.4)\n",
      "Requirement already satisfied: configargparse in /opt/miniconda3/lib/python3.11/site-packages (from open3d->-r requirements.txt (line 10)) (1.7)\n",
      "Requirement already satisfied: ipywidgets>=8.0.4 in /opt/miniconda3/lib/python3.11/site-packages (from open3d->-r requirements.txt (line 10)) (8.1.5)\n",
      "Requirement already satisfied: addict in /opt/miniconda3/lib/python3.11/site-packages (from open3d->-r requirements.txt (line 10)) (2.4.0)\n",
      "Requirement already satisfied: pyyaml>=5.4.1 in /opt/miniconda3/lib/python3.11/site-packages (from open3d->-r requirements.txt (line 10)) (6.0.2)\n",
      "Requirement already satisfied: scikit-learn>=0.21 in /opt/miniconda3/lib/python3.11/site-packages (from open3d->-r requirements.txt (line 10)) (1.6.0)\n",
      "Requirement already satisfied: pyquaternion in /opt/miniconda3/lib/python3.11/site-packages (from open3d->-r requirements.txt (line 10)) (0.9.9)\n",
      "Requirement already satisfied: contourpy>=1.0.1 in /opt/miniconda3/lib/python3.11/site-packages (from matplotlib->-r requirements.txt (line 11)) (1.3.1)\n",
      "Requirement already satisfied: cycler>=0.10 in /opt/miniconda3/lib/python3.11/site-packages (from matplotlib->-r requirements.txt (line 11)) (0.12.1)\n",
      "Requirement already satisfied: fonttools>=4.22.0 in /opt/miniconda3/lib/python3.11/site-packages (from matplotlib->-r requirements.txt (line 11)) (4.55.3)\n",
      "Requirement already satisfied: kiwisolver>=1.3.1 in /opt/miniconda3/lib/python3.11/site-packages (from matplotlib->-r requirements.txt (line 11)) (1.4.7)\n",
      "Requirement already satisfied: pyparsing>=2.3.1 in /opt/miniconda3/lib/python3.11/site-packages (from matplotlib->-r requirements.txt (line 11)) (3.2.0)\n",
      "Requirement already satisfied: Flask<3.1,>=1.0.4 in /opt/miniconda3/lib/python3.11/site-packages (from dash>=2.6.0->open3d->-r requirements.txt (line 10)) (3.0.3)\n",
      "Requirement already satisfied: plotly>=5.0.0 in /opt/miniconda3/lib/python3.11/site-packages (from dash>=2.6.0->open3d->-r requirements.txt (line 10)) (5.24.1)\n",
      "Requirement already satisfied: dash-html-components==2.0.0 in /opt/miniconda3/lib/python3.11/site-packages (from dash>=2.6.0->open3d->-r requirements.txt (line 10)) (2.0.0)\n",
      "Requirement already satisfied: dash-core-components==2.0.0 in /opt/miniconda3/lib/python3.11/site-packages (from dash>=2.6.0->open3d->-r requirements.txt (line 10)) (2.0.0)\n",
      "Requirement already satisfied: dash-table==5.0.0 in /opt/miniconda3/lib/python3.11/site-packages (from dash>=2.6.0->open3d->-r requirements.txt (line 10)) (5.0.0)\n",
      "Requirement already satisfied: importlib-metadata in /opt/miniconda3/lib/python3.11/site-packages (from dash>=2.6.0->open3d->-r requirements.txt (line 10)) (8.5.0)\n",
      "Requirement already satisfied: retrying in /opt/miniconda3/lib/python3.11/site-packages (from dash>=2.6.0->open3d->-r requirements.txt (line 10)) (1.3.4)\n",
      "Requirement already satisfied: setuptools in /opt/miniconda3/lib/python3.11/site-packages (from dash>=2.6.0->open3d->-r requirements.txt (line 10)) (68.2.2)\n",
      "Requirement already satisfied: decorator in /opt/miniconda3/lib/python3.11/site-packages (from ipython>=7.23.1->ipykernel->-r requirements.txt (line 8)) (5.1.1)\n",
      "Requirement already satisfied: jedi>=0.16 in /opt/miniconda3/lib/python3.11/site-packages (from ipython>=7.23.1->ipykernel->-r requirements.txt (line 8)) (0.19.2)\n",
      "Requirement already satisfied: pexpect>4.3 in /opt/miniconda3/lib/python3.11/site-packages (from ipython>=7.23.1->ipykernel->-r requirements.txt (line 8)) (4.9.0)\n",
      "Requirement already satisfied: prompt_toolkit<3.1.0,>=3.0.41 in /opt/miniconda3/lib/python3.11/site-packages (from ipython>=7.23.1->ipykernel->-r requirements.txt (line 8)) (3.0.48)\n",
      "Requirement already satisfied: pygments>=2.4.0 in /opt/miniconda3/lib/python3.11/site-packages (from ipython>=7.23.1->ipykernel->-r requirements.txt (line 8)) (2.18.0)\n",
      "Requirement already satisfied: stack_data in /opt/miniconda3/lib/python3.11/site-packages (from ipython>=7.23.1->ipykernel->-r requirements.txt (line 8)) (0.6.3)\n",
      "Requirement already satisfied: widgetsnbextension~=4.0.12 in /opt/miniconda3/lib/python3.11/site-packages (from ipywidgets>=8.0.4->open3d->-r requirements.txt (line 10)) (4.0.13)\n",
      "Requirement already satisfied: jupyterlab-widgets~=3.0.12 in /opt/miniconda3/lib/python3.11/site-packages (from ipywidgets>=8.0.4->open3d->-r requirements.txt (line 10)) (3.0.13)\n",
      "Requirement already satisfied: platformdirs>=2.5 in /opt/miniconda3/lib/python3.11/site-packages (from jupyter-core!=5.0.*,>=4.12->ipykernel->-r requirements.txt (line 8)) (3.10.0)\n",
      "Requirement already satisfied: fastjsonschema>=2.15 in /opt/miniconda3/lib/python3.11/site-packages (from nbformat>=5.7.0->open3d->-r requirements.txt (line 10)) (2.21.1)\n",
      "Requirement already satisfied: jsonschema>=2.6 in /opt/miniconda3/lib/python3.11/site-packages (from nbformat>=5.7.0->open3d->-r requirements.txt (line 10)) (4.23.0)\n",
      "Requirement already satisfied: six>=1.5 in /opt/miniconda3/lib/python3.11/site-packages (from python-dateutil>=2.8.2->pandas->-r requirements.txt (line 6)) (1.17.0)\n",
      "Requirement already satisfied: scipy>=1.6.0 in /opt/miniconda3/lib/python3.11/site-packages (from scikit-learn>=0.21->open3d->-r requirements.txt (line 10)) (1.14.1)\n",
      "Requirement already satisfied: joblib>=1.2.0 in /opt/miniconda3/lib/python3.11/site-packages (from scikit-learn>=0.21->open3d->-r requirements.txt (line 10)) (1.4.2)\n",
      "Requirement already satisfied: threadpoolctl>=3.1.0 in /opt/miniconda3/lib/python3.11/site-packages (from scikit-learn>=0.21->open3d->-r requirements.txt (line 10)) (3.5.0)\n",
      "Requirement already satisfied: MarkupSafe>=2.1.1 in /opt/miniconda3/lib/python3.11/site-packages (from werkzeug>=2.2.3->open3d->-r requirements.txt (line 10)) (3.0.2)\n",
      "Requirement already satisfied: itsdangerous>=2.1.2 in /opt/miniconda3/lib/python3.11/site-packages (from Flask<3.1,>=1.0.4->dash>=2.6.0->open3d->-r requirements.txt (line 10)) (2.2.0)\n",
      "Requirement already satisfied: click>=8.1.3 in /opt/miniconda3/lib/python3.11/site-packages (from Flask<3.1,>=1.0.4->dash>=2.6.0->open3d->-r requirements.txt (line 10)) (8.1.7)\n",
      "Requirement already satisfied: blinker>=1.6.2 in /opt/miniconda3/lib/python3.11/site-packages (from Flask<3.1,>=1.0.4->dash>=2.6.0->open3d->-r requirements.txt (line 10)) (1.9.0)\n",
      "Requirement already satisfied: parso<0.9.0,>=0.8.4 in /opt/miniconda3/lib/python3.11/site-packages (from jedi>=0.16->ipython>=7.23.1->ipykernel->-r requirements.txt (line 8)) (0.8.4)\n",
      "Requirement already satisfied: attrs>=22.2.0 in /opt/miniconda3/lib/python3.11/site-packages (from jsonschema>=2.6->nbformat>=5.7.0->open3d->-r requirements.txt (line 10)) (24.2.0)\n",
      "Requirement already satisfied: jsonschema-specifications>=2023.03.6 in /opt/miniconda3/lib/python3.11/site-packages (from jsonschema>=2.6->nbformat>=5.7.0->open3d->-r requirements.txt (line 10)) (2024.10.1)\n",
      "Requirement already satisfied: referencing>=0.28.4 in /opt/miniconda3/lib/python3.11/site-packages (from jsonschema>=2.6->nbformat>=5.7.0->open3d->-r requirements.txt (line 10)) (0.35.1)\n",
      "Requirement already satisfied: rpds-py>=0.7.1 in /opt/miniconda3/lib/python3.11/site-packages (from jsonschema>=2.6->nbformat>=5.7.0->open3d->-r requirements.txt (line 10)) (0.22.3)\n",
      "Requirement already satisfied: ptyprocess>=0.5 in /opt/miniconda3/lib/python3.11/site-packages (from pexpect>4.3->ipython>=7.23.1->ipykernel->-r requirements.txt (line 8)) (0.7.0)\n",
      "Requirement already satisfied: tenacity>=6.2.0 in /opt/miniconda3/lib/python3.11/site-packages (from plotly>=5.0.0->dash>=2.6.0->open3d->-r requirements.txt (line 10)) (9.0.0)\n",
      "Requirement already satisfied: wcwidth in /opt/miniconda3/lib/python3.11/site-packages (from prompt_toolkit<3.1.0,>=3.0.41->ipython>=7.23.1->ipykernel->-r requirements.txt (line 8)) (0.2.13)\n",
      "Requirement already satisfied: zipp>=3.20 in /opt/miniconda3/lib/python3.11/site-packages (from importlib-metadata->dash>=2.6.0->open3d->-r requirements.txt (line 10)) (3.21.0)\n",
      "Requirement already satisfied: executing>=1.2.0 in /opt/miniconda3/lib/python3.11/site-packages (from stack_data->ipython>=7.23.1->ipykernel->-r requirements.txt (line 8)) (2.1.0)\n",
      "Requirement already satisfied: asttokens>=2.1.0 in /opt/miniconda3/lib/python3.11/site-packages (from stack_data->ipython>=7.23.1->ipykernel->-r requirements.txt (line 8)) (3.0.0)\n",
      "Requirement already satisfied: pure_eval in /opt/miniconda3/lib/python3.11/site-packages (from stack_data->ipython>=7.23.1->ipykernel->-r requirements.txt (line 8)) (0.2.3)\n",
      "Note: you may need to restart the kernel to use updated packages.\n"
     ]
    }
   ],
   "source": [
    "%pip install -r requirements.txt"
   ]
  },
  {
   "cell_type": "markdown",
   "metadata": {},
   "source": [
    "Check if we have GPU support, and if not, warn the user.\n"
   ]
  },
  {
   "cell_type": "code",
   "execution_count": 2,
   "metadata": {
    "tags": []
   },
   "outputs": [
    {
     "name": "stdout",
     "output_type": "stream",
     "text": [
      "CUDA is available!\n"
     ]
    }
   ],
   "source": [
    "import torch\n",
    "import warnings\n",
    "\n",
    "if torch.cuda.is_available():\n",
    "    print(\"CUDA is available!\")\n",
    "else:\n",
    "    warnings.warn(\"CUDA is not available. Running on CPU.\")"
   ]
  },
  {
   "cell_type": "markdown",
   "metadata": {},
   "source": [
    "Load our dataset...\n"
   ]
  },
  {
   "cell_type": "code",
   "execution_count": null,
   "metadata": {
    "scrolled": true,
    "tags": []
   },
   "outputs": [
    {
     "name": "stdout",
     "output_type": "stream",
     "text": [
      "Jupyter environment detected. Enabling Open3D WebVisualizer.\n",
      "[Open3D INFO] WebRTC GUI backend enabled.\n",
      "[Open3D INFO] WebRTCWindowSystem: HTTP handshake server disabled.\n",
      "Zip already downloaded.\n",
      "Conflicting data folder found. Deleting existing folder...\n",
      "Folder deleted.\n",
      "Extracting data...\n"
     ]
    }
   ],
   "source": [
    "import tempfile\n",
    "import os\n",
    "import zipfile\n",
    "import shutil\n",
    "\n",
    "import utils.file\n",
    "\n",
    "from data_sources import DataSource, ModelNet40\n",
    "from pointnet.dataset import ModelNetDataset\n",
    "\n",
    "data_source: DataSource = ModelNet40()\n",
    "data_size = utils.file.get_download_size(data_source.url)\n",
    "\n",
    "temp_dir = tempfile.gettempdir()\n",
    "zip_path = os.path.join(temp_dir, data_source.name + \".zip\")\n",
    "dataset_path = os.path.join(temp_dir, data_source.name)\n",
    "\n",
    "if os.path.exists(zip_path) and utils.file.checksum(zip_path) == data_source.checksum:\n",
    "    print(\"Zip already downloaded.\")\n",
    "else:\n",
    "    utils.file.download_file(data_source.url, zip_path)\n",
    "    print(\"Zip downloaded.\")\n",
    "\n",
    "if os.path.exists(dataset_path):\n",
    "    print(\"Conflicting data folder found. Deleting existing folder...\")\n",
    "    shutil.rmtree(dataset_path)\n",
    "    print(\"Folder deleted.\")\n",
    "\n",
    "print(\"Extracting data...\")\n",
    "with zipfile.ZipFile(zip_path, \"r\") as zip_ref:\n",
    "    zip_ref.extractall(dataset_path)\n",
    "    print(\"Data extracted.\")\n",
    "\n",
    "npoints = 2500\n",
    "\n",
    "train_dataset = ModelNetDataset(root=dataset_path, npoints=npoints, split=\"train\")\n",
    "\n",
    "test_dataset = ModelNetDataset(\n",
    "    root=dataset_path,\n",
    "    split=\"test\",\n",
    "    npoints=npoints,\n",
    ")\n",
    "\n",
    "print(\n",
    "    f\"Training data: {len(train_dataset)} samples with {len(train_dataset.classes)} classes\"\n",
    ")\n",
    "print(\n",
    "    f\"Test data size: {len(test_dataset)} samples with {len(test_dataset.classes)} classes\"\n",
    ")"
   ]
  },
  {
   "cell_type": "markdown",
   "metadata": {
    "user_expressions": []
   },
   "source": [
    "# Training\n",
    "\n",
    "Train a new classifier or load a new pre-trained one:\n"
   ]
  },
  {
   "cell_type": "code",
   "execution_count": null,
   "metadata": {
    "scrolled": true,
    "tags": []
   },
   "outputs": [
    {
     "name": "stdout",
     "output_type": "stream",
     "text": [
      "Loading existing model from ./pointnet/classifier.pth...\n",
      "Classifier loaded successfully.\n"
     ]
    }
   ],
   "source": [
    "from pointnet.train_classification import train_classification\n",
    "from pointnet.model import PointNetCls\n",
    "\n",
    "classifier_path = \"./pointnet/classifier.pth\"\n",
    "\n",
    "if classifier_path and os.path.exists(classifier_path):\n",
    "    print(f\"Loading existing model from {classifier_path}...\")\n",
    "    classifier = PointNetCls(k=len(train_dataset.classes))\n",
    "    classifier.load_state_dict(torch.load(classifier_path, weights_only=True))\n",
    "    print(\"Classifier loaded successfully.\")\n",
    "else:\n",
    "    classifier = train_classification(\n",
    "        train_dataset=train_dataset,\n",
    "        test_dataset=test_dataset,\n",
    "        epochs=25,\n",
    "        outf=\"./pointnet/cls\",\n",
    "    )"
   ]
  },
  {
   "cell_type": "markdown",
   "metadata": {},
   "source": [
    "Run a simple classification to get a visualization of our classifier.\n"
   ]
  },
  {
   "cell_type": "code",
   "execution_count": null,
   "metadata": {},
   "outputs": [
    {
     "ename": "ValueError",
     "evalue": "Cannot take a larger sample than population when 'replace=False'",
     "output_type": "error",
     "traceback": [
      "\u001b[0;31m---------------------------------------------------------------------------\u001b[0m",
      "\u001b[0;31mValueError\u001b[0m                                Traceback (most recent call last)",
      "Cell \u001b[0;32mIn[6], line 7\u001b[0m\n\u001b[1;32m      3\u001b[0m \u001b[38;5;28;01mfrom\u001b[39;00m \u001b[38;5;21;01mutils\u001b[39;00m\u001b[38;5;21;01m.\u001b[39;00m\u001b[38;5;21;01mplot\u001b[39;00m \u001b[38;5;28;01mimport\u001b[39;00m plot_points\n\u001b[1;32m      5\u001b[0m i \u001b[38;5;241m=\u001b[39m random\u001b[38;5;241m.\u001b[39mrandint(\u001b[38;5;241m0\u001b[39m, \u001b[38;5;28mlen\u001b[39m(test_dataset) \u001b[38;5;241m-\u001b[39m \u001b[38;5;241m1\u001b[39m)\n\u001b[0;32m----> 7\u001b[0m input_data \u001b[38;5;241m=\u001b[39m \u001b[43mtest_dataset\u001b[49m\u001b[43m[\u001b[49m\u001b[43mi\u001b[49m\u001b[43m]\u001b[49m[\u001b[38;5;241m0\u001b[39m]\u001b[38;5;241m.\u001b[39munsqueeze(\u001b[38;5;241m0\u001b[39m)\n\u001b[1;32m      8\u001b[0m input_data \u001b[38;5;241m=\u001b[39m input_data\u001b[38;5;241m.\u001b[39mtranspose(\u001b[38;5;241m1\u001b[39m, \u001b[38;5;241m2\u001b[39m)\n\u001b[1;32m     10\u001b[0m classifier\u001b[38;5;241m.\u001b[39meval()\n",
      "File \u001b[0;32m~/research-project-python/pointnet/dataset.py:109\u001b[0m, in \u001b[0;36mModelNetDataset.__getitem__\u001b[0;34m(self, index)\u001b[0m\n\u001b[1;32m    107\u001b[0m pts \u001b[38;5;241m=\u001b[39m np\u001b[38;5;241m.\u001b[39masarray(mesh\u001b[38;5;241m.\u001b[39mvertices)\n\u001b[1;32m    108\u001b[0m np\u001b[38;5;241m.\u001b[39mrandom\u001b[38;5;241m.\u001b[39mseed(\u001b[38;5;28mself\u001b[39m\u001b[38;5;241m.\u001b[39mseed \u001b[38;5;241m+\u001b[39m index)\n\u001b[0;32m--> 109\u001b[0m choice \u001b[38;5;241m=\u001b[39m \u001b[43mnp\u001b[49m\u001b[38;5;241;43m.\u001b[39;49m\u001b[43mrandom\u001b[49m\u001b[38;5;241;43m.\u001b[39;49m\u001b[43mchoice\u001b[49m\u001b[43m(\u001b[49m\u001b[38;5;28;43mlen\u001b[39;49m\u001b[43m(\u001b[49m\u001b[43mpts\u001b[49m\u001b[43m)\u001b[49m\u001b[43m,\u001b[49m\u001b[43m \u001b[49m\u001b[38;5;28;43mself\u001b[39;49m\u001b[38;5;241;43m.\u001b[39;49m\u001b[43mnpoints\u001b[49m\u001b[43m,\u001b[49m\u001b[43m \u001b[49m\u001b[43mreplace\u001b[49m\u001b[38;5;241;43m=\u001b[39;49m\u001b[38;5;28;43;01mFalse\u001b[39;49;00m\u001b[43m)\u001b[49m\n\u001b[1;32m    110\u001b[0m point_set \u001b[38;5;241m=\u001b[39m pts[choice, :]\n\u001b[1;32m    112\u001b[0m point_set \u001b[38;5;241m=\u001b[39m point_set \u001b[38;5;241m-\u001b[39m np\u001b[38;5;241m.\u001b[39mexpand_dims(np\u001b[38;5;241m.\u001b[39mmean(point_set, axis\u001b[38;5;241m=\u001b[39m\u001b[38;5;241m0\u001b[39m), \u001b[38;5;241m0\u001b[39m)  \u001b[38;5;66;03m# center\u001b[39;00m\n",
      "File \u001b[0;32mnumpy/random/mtrand.pyx:1020\u001b[0m, in \u001b[0;36mnumpy.random.mtrand.RandomState.choice\u001b[0;34m()\u001b[0m\n",
      "\u001b[0;31mValueError\u001b[0m: Cannot take a larger sample than population when 'replace=False'"
     ]
    }
   ],
   "source": [
    "import random\n",
    "import torch\n",
    "from utils.plot import plot_points\n",
    "\n",
    "i = random.randint(0, len(test_dataset) - 1)\n",
    "\n",
    "input_data = test_dataset[i][0].unsqueeze(0)\n",
    "input_data = input_data.transpose(1, 2)\n",
    "\n",
    "classifier.eval()\n",
    "\n",
    "with torch.no_grad():\n",
    "    output = classifier(input_data)\n",
    "\n",
    "\n",
    "scores: torch.Tensor = output[0][0]\n",
    "print(\"Scores:\", scores.tolist())\n",
    "print(\n",
    "    f\"Expected class: {test_dataset.classes[int(test_dataset[i][1])]} ({int(test_dataset[i][1])})\",\n",
    ")\n",
    "print(\n",
    "    f\"Predicted class: {test_dataset.classes[scores.argmax().item()]} ({scores.argmax().item()})\"\n",
    ")\n",
    "\n",
    "points = input_data[0].transpose(0, 1).numpy()\n",
    "plot_points(points)"
   ]
  },
  {
   "cell_type": "markdown",
   "metadata": {},
   "source": [
    "Train the segmenter:\n"
   ]
  },
  {
   "cell_type": "code",
   "execution_count": null,
   "metadata": {
    "tags": []
   },
   "outputs": [
    {
     "name": "stdout",
     "output_type": "stream",
     "text": [
      "Random Seed:  9583\n"
     ]
    },
    {
     "ename": "ValueError",
     "evalue": "Expected input batch_size (80000) to match target batch_size (32).",
     "output_type": "error",
     "traceback": [
      "\u001b[0;31m---------------------------------------------------------------------------\u001b[0m",
      "\u001b[0;31mValueError\u001b[0m                                Traceback (most recent call last)",
      "Cell \u001b[0;32mIn[3], line 3\u001b[0m\n\u001b[1;32m      1\u001b[0m \u001b[38;5;28;01mfrom\u001b[39;00m \u001b[38;5;21;01mpointnet\u001b[39;00m\u001b[38;5;21;01m.\u001b[39;00m\u001b[38;5;21;01mtrain_segmentation\u001b[39;00m \u001b[38;5;28;01mimport\u001b[39;00m train_segmentation\n\u001b[0;32m----> 3\u001b[0m \u001b[43mtrain_segmentation\u001b[49m\u001b[43m(\u001b[49m\u001b[43mtrain_dataset\u001b[49m\u001b[38;5;241;43m=\u001b[39;49m\u001b[43mtrain_dataset\u001b[49m\u001b[43m,\u001b[49m\u001b[43m \u001b[49m\u001b[43mtest_dataset\u001b[49m\u001b[38;5;241;43m=\u001b[39;49m\u001b[43mtest_dataset\u001b[49m\u001b[43m,\u001b[49m\u001b[43m \u001b[49m\u001b[43mepochs\u001b[49m\u001b[38;5;241;43m=\u001b[39;49m\u001b[38;5;241;43m25\u001b[39;49m\u001b[43m,\u001b[49m\u001b[43m \u001b[49m\u001b[43mclass_choice\u001b[49m\u001b[38;5;241;43m=\u001b[39;49m\u001b[38;5;241;43m0\u001b[39;49m\u001b[43m)\u001b[49m\n",
      "File \u001b[0;32m~/research-project-python/pointnet/train_segmentation.py:72\u001b[0m, in \u001b[0;36mtrain_segmentation\u001b[0;34m(train_dataset, test_dataset, class_choice, batchSize, workers, epochs, outf, model, feature_transform)\u001b[0m\n\u001b[1;32m     70\u001b[0m target \u001b[38;5;241m=\u001b[39m target\u001b[38;5;241m.\u001b[39mview(\u001b[38;5;241m-\u001b[39m\u001b[38;5;241m1\u001b[39m, \u001b[38;5;241m1\u001b[39m)[:, \u001b[38;5;241m0\u001b[39m] \u001b[38;5;241m-\u001b[39m \u001b[38;5;241m1\u001b[39m\n\u001b[1;32m     71\u001b[0m \u001b[38;5;66;03m# print(pred.size(), target.size())\u001b[39;00m\n\u001b[0;32m---> 72\u001b[0m loss \u001b[38;5;241m=\u001b[39m \u001b[43mF\u001b[49m\u001b[38;5;241;43m.\u001b[39;49m\u001b[43mnll_loss\u001b[49m\u001b[43m(\u001b[49m\u001b[43mpred\u001b[49m\u001b[43m,\u001b[49m\u001b[43m \u001b[49m\u001b[43mtarget\u001b[49m\u001b[43m)\u001b[49m\n\u001b[1;32m     73\u001b[0m \u001b[38;5;28;01mif\u001b[39;00m feature_transform:\n\u001b[1;32m     74\u001b[0m     loss \u001b[38;5;241m+\u001b[39m\u001b[38;5;241m=\u001b[39m feature_transform_regularizer(trans_feat) \u001b[38;5;241m*\u001b[39m \u001b[38;5;241m0.001\u001b[39m\n",
      "File \u001b[0;32m~/.local/lib/python3.8/site-packages/torch/nn/functional.py:2778\u001b[0m, in \u001b[0;36mnll_loss\u001b[0;34m(input, target, weight, size_average, ignore_index, reduce, reduction)\u001b[0m\n\u001b[1;32m   2776\u001b[0m \u001b[38;5;28;01mif\u001b[39;00m size_average \u001b[38;5;129;01mis\u001b[39;00m \u001b[38;5;129;01mnot\u001b[39;00m \u001b[38;5;28;01mNone\u001b[39;00m \u001b[38;5;129;01mor\u001b[39;00m reduce \u001b[38;5;129;01mis\u001b[39;00m \u001b[38;5;129;01mnot\u001b[39;00m \u001b[38;5;28;01mNone\u001b[39;00m:\n\u001b[1;32m   2777\u001b[0m     reduction \u001b[38;5;241m=\u001b[39m _Reduction\u001b[38;5;241m.\u001b[39mlegacy_get_string(size_average, reduce)\n\u001b[0;32m-> 2778\u001b[0m \u001b[38;5;28;01mreturn\u001b[39;00m \u001b[43mtorch\u001b[49m\u001b[38;5;241;43m.\u001b[39;49m\u001b[43m_C\u001b[49m\u001b[38;5;241;43m.\u001b[39;49m\u001b[43m_nn\u001b[49m\u001b[38;5;241;43m.\u001b[39;49m\u001b[43mnll_loss_nd\u001b[49m\u001b[43m(\u001b[49m\u001b[38;5;28;43minput\u001b[39;49m\u001b[43m,\u001b[49m\u001b[43m \u001b[49m\u001b[43mtarget\u001b[49m\u001b[43m,\u001b[49m\u001b[43m \u001b[49m\u001b[43mweight\u001b[49m\u001b[43m,\u001b[49m\u001b[43m \u001b[49m\u001b[43m_Reduction\u001b[49m\u001b[38;5;241;43m.\u001b[39;49m\u001b[43mget_enum\u001b[49m\u001b[43m(\u001b[49m\u001b[43mreduction\u001b[49m\u001b[43m)\u001b[49m\u001b[43m,\u001b[49m\u001b[43m \u001b[49m\u001b[43mignore_index\u001b[49m\u001b[43m)\u001b[49m\n",
      "\u001b[0;31mValueError\u001b[0m: Expected input batch_size (80000) to match target batch_size (32)."
     ]
    }
   ],
   "source": [
    "from pointnet.train_segmentation import train_segmentation\n",
    "\n",
    "train_segmentation(\n",
    "    train_dataset=train_dataset, test_dataset=test_dataset, epochs=25, class_choice=0\n",
    ")"
   ]
  },
  {
   "cell_type": "code",
   "execution_count": null,
   "metadata": {},
   "outputs": [],
   "source": [
    " "
   ]
  }
 ],
 "metadata": {
  "kernelspec": {
   "display_name": "base",
   "language": "python",
   "name": "python3"
  },
  "language_info": {
   "codemirror_mode": {
    "name": "ipython",
    "version": 3
   },
   "file_extension": ".py",
   "mimetype": "text/x-python",
   "name": "python",
   "nbconvert_exporter": "python",
   "pygments_lexer": "ipython3",
   "version": "3.11.8"
  }
 },
 "nbformat": 4,
 "nbformat_minor": 4
}
