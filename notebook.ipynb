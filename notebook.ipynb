{
 "cells": [
  {
   "cell_type": "markdown",
   "metadata": {},
   "source": [
    "# Setup\n",
    "\n",
    "Ensure all dependencies are installed.\n"
   ]
  },
  {
   "cell_type": "code",
   "execution_count": 1,
   "metadata": {
    "scrolled": true,
    "tags": []
   },
   "outputs": [
    {
     "name": "stdout",
     "output_type": "stream",
     "text": [
      "Requirement already satisfied: torch in ./.venv/lib/python3.8/site-packages (from -r requirements.txt (line 1)) (2.4.1)\n",
      "Requirement already satisfied: torchvision in ./.venv/lib/python3.8/site-packages (from -r requirements.txt (line 2)) (0.19.1)\n",
      "Requirement already satisfied: torchaudio in ./.venv/lib/python3.8/site-packages (from -r requirements.txt (line 3)) (2.4.1)\n",
      "Requirement already satisfied: tqdm in ./.venv/lib/python3.8/site-packages (from -r requirements.txt (line 4)) (4.67.1)\n",
      "Requirement already satisfied: numpy in ./.venv/lib/python3.8/site-packages (from -r requirements.txt (line 5)) (1.24.4)\n",
      "Requirement already satisfied: pandas in ./.venv/lib/python3.8/site-packages (from -r requirements.txt (line 6)) (2.0.3)\n",
      "Requirement already satisfied: plyfile in ./.venv/lib/python3.8/site-packages (from -r requirements.txt (line 7)) (1.0.3)\n",
      "Requirement already satisfied: ipykernel in ./.venv/lib/python3.8/site-packages (from -r requirements.txt (line 8)) (6.29.5)\n",
      "Requirement already satisfied: requests in ./.venv/lib/python3.8/site-packages (from -r requirements.txt (line 9)) (2.32.3)\n",
      "Requirement already satisfied: open3d in ./.venv/lib/python3.8/site-packages (from -r requirements.txt (line 10)) (0.18.0)\n",
      "Requirement already satisfied: matplotlib in ./.venv/lib/python3.8/site-packages (from -r requirements.txt (line 11)) (3.7.5)\n",
      "Requirement already satisfied: filelock in ./.venv/lib/python3.8/site-packages (from torch->-r requirements.txt (line 1)) (3.16.1)\n",
      "Requirement already satisfied: typing-extensions>=4.8.0 in ./.venv/lib/python3.8/site-packages (from torch->-r requirements.txt (line 1)) (4.12.2)\n",
      "Requirement already satisfied: sympy in ./.venv/lib/python3.8/site-packages (from torch->-r requirements.txt (line 1)) (1.13.3)\n",
      "Requirement already satisfied: networkx in ./.venv/lib/python3.8/site-packages (from torch->-r requirements.txt (line 1)) (3.1)\n",
      "Requirement already satisfied: jinja2 in ./.venv/lib/python3.8/site-packages (from torch->-r requirements.txt (line 1)) (3.1.4)\n",
      "Requirement already satisfied: fsspec in ./.venv/lib/python3.8/site-packages (from torch->-r requirements.txt (line 1)) (2024.10.0)\n",
      "Requirement already satisfied: nvidia-cuda-nvrtc-cu12==12.1.105 in ./.venv/lib/python3.8/site-packages (from torch->-r requirements.txt (line 1)) (12.1.105)\n",
      "Requirement already satisfied: nvidia-cuda-runtime-cu12==12.1.105 in ./.venv/lib/python3.8/site-packages (from torch->-r requirements.txt (line 1)) (12.1.105)\n",
      "Requirement already satisfied: nvidia-cuda-cupti-cu12==12.1.105 in ./.venv/lib/python3.8/site-packages (from torch->-r requirements.txt (line 1)) (12.1.105)\n",
      "Requirement already satisfied: nvidia-cudnn-cu12==9.1.0.70 in ./.venv/lib/python3.8/site-packages (from torch->-r requirements.txt (line 1)) (9.1.0.70)\n",
      "Requirement already satisfied: nvidia-cublas-cu12==12.1.3.1 in ./.venv/lib/python3.8/site-packages (from torch->-r requirements.txt (line 1)) (12.1.3.1)\n",
      "Requirement already satisfied: nvidia-cufft-cu12==11.0.2.54 in ./.venv/lib/python3.8/site-packages (from torch->-r requirements.txt (line 1)) (11.0.2.54)\n",
      "Requirement already satisfied: nvidia-curand-cu12==10.3.2.106 in ./.venv/lib/python3.8/site-packages (from torch->-r requirements.txt (line 1)) (10.3.2.106)\n",
      "Requirement already satisfied: nvidia-cusolver-cu12==11.4.5.107 in ./.venv/lib/python3.8/site-packages (from torch->-r requirements.txt (line 1)) (11.4.5.107)\n",
      "Requirement already satisfied: nvidia-cusparse-cu12==12.1.0.106 in ./.venv/lib/python3.8/site-packages (from torch->-r requirements.txt (line 1)) (12.1.0.106)\n",
      "Requirement already satisfied: nvidia-nccl-cu12==2.20.5 in ./.venv/lib/python3.8/site-packages (from torch->-r requirements.txt (line 1)) (2.20.5)\n",
      "Requirement already satisfied: nvidia-nvtx-cu12==12.1.105 in ./.venv/lib/python3.8/site-packages (from torch->-r requirements.txt (line 1)) (12.1.105)\n",
      "Requirement already satisfied: triton==3.0.0 in ./.venv/lib/python3.8/site-packages (from torch->-r requirements.txt (line 1)) (3.0.0)\n",
      "Requirement already satisfied: nvidia-nvjitlink-cu12 in ./.venv/lib/python3.8/site-packages (from nvidia-cusolver-cu12==11.4.5.107->torch->-r requirements.txt (line 1)) (12.6.85)\n",
      "Requirement already satisfied: pillow!=8.3.*,>=5.3.0 in ./.venv/lib/python3.8/site-packages (from torchvision->-r requirements.txt (line 2)) (10.4.0)\n",
      "Requirement already satisfied: python-dateutil>=2.8.2 in ./.venv/lib/python3.8/site-packages (from pandas->-r requirements.txt (line 6)) (2.9.0.post0)\n",
      "Requirement already satisfied: pytz>=2020.1 in ./.venv/lib/python3.8/site-packages (from pandas->-r requirements.txt (line 6)) (2024.2)\n",
      "Requirement already satisfied: tzdata>=2022.1 in ./.venv/lib/python3.8/site-packages (from pandas->-r requirements.txt (line 6)) (2024.2)\n",
      "Requirement already satisfied: comm>=0.1.1 in ./.venv/lib/python3.8/site-packages (from ipykernel->-r requirements.txt (line 8)) (0.2.2)\n",
      "Requirement already satisfied: debugpy>=1.6.5 in ./.venv/lib/python3.8/site-packages (from ipykernel->-r requirements.txt (line 8)) (1.8.9)\n",
      "Requirement already satisfied: ipython>=7.23.1 in ./.venv/lib/python3.8/site-packages (from ipykernel->-r requirements.txt (line 8)) (8.12.3)\n",
      "Requirement already satisfied: jupyter-client>=6.1.12 in ./.venv/lib/python3.8/site-packages (from ipykernel->-r requirements.txt (line 8)) (8.6.3)\n",
      "Requirement already satisfied: jupyter-core!=5.0.*,>=4.12 in ./.venv/lib/python3.8/site-packages (from ipykernel->-r requirements.txt (line 8)) (5.7.2)\n",
      "Requirement already satisfied: matplotlib-inline>=0.1 in ./.venv/lib/python3.8/site-packages (from ipykernel->-r requirements.txt (line 8)) (0.1.7)\n",
      "Requirement already satisfied: nest-asyncio in ./.venv/lib/python3.8/site-packages (from ipykernel->-r requirements.txt (line 8)) (1.6.0)\n",
      "Requirement already satisfied: packaging in ./.venv/lib/python3.8/site-packages (from ipykernel->-r requirements.txt (line 8)) (24.2)\n",
      "Requirement already satisfied: psutil in ./.venv/lib/python3.8/site-packages (from ipykernel->-r requirements.txt (line 8)) (6.1.0)\n",
      "Requirement already satisfied: pyzmq>=24 in ./.venv/lib/python3.8/site-packages (from ipykernel->-r requirements.txt (line 8)) (26.2.0)\n",
      "Requirement already satisfied: tornado>=6.1 in ./.venv/lib/python3.8/site-packages (from ipykernel->-r requirements.txt (line 8)) (6.4.2)\n",
      "Requirement already satisfied: traitlets>=5.4.0 in ./.venv/lib/python3.8/site-packages (from ipykernel->-r requirements.txt (line 8)) (5.14.3)\n",
      "Requirement already satisfied: charset-normalizer<4,>=2 in ./.venv/lib/python3.8/site-packages (from requests->-r requirements.txt (line 9)) (3.4.0)\n",
      "Requirement already satisfied: idna<4,>=2.5 in ./.venv/lib/python3.8/site-packages (from requests->-r requirements.txt (line 9)) (3.10)\n",
      "Requirement already satisfied: urllib3<3,>=1.21.1 in ./.venv/lib/python3.8/site-packages (from requests->-r requirements.txt (line 9)) (2.2.3)\n",
      "Requirement already satisfied: certifi>=2017.4.17 in ./.venv/lib/python3.8/site-packages (from requests->-r requirements.txt (line 9)) (2024.8.30)\n",
      "Requirement already satisfied: dash>=2.6.0 in ./.venv/lib/python3.8/site-packages (from open3d->-r requirements.txt (line 10)) (2.18.2)\n",
      "Requirement already satisfied: werkzeug>=2.2.3 in ./.venv/lib/python3.8/site-packages (from open3d->-r requirements.txt (line 10)) (3.0.6)\n",
      "Requirement already satisfied: nbformat>=5.7.0 in ./.venv/lib/python3.8/site-packages (from open3d->-r requirements.txt (line 10)) (5.10.4)\n",
      "Requirement already satisfied: configargparse in ./.venv/lib/python3.8/site-packages (from open3d->-r requirements.txt (line 10)) (1.7)\n",
      "Requirement already satisfied: ipywidgets>=8.0.4 in ./.venv/lib/python3.8/site-packages (from open3d->-r requirements.txt (line 10)) (8.1.5)\n",
      "Requirement already satisfied: addict in ./.venv/lib/python3.8/site-packages (from open3d->-r requirements.txt (line 10)) (2.4.0)\n",
      "Requirement already satisfied: pyyaml>=5.4.1 in ./.venv/lib/python3.8/site-packages (from open3d->-r requirements.txt (line 10)) (6.0.2)\n",
      "Requirement already satisfied: scikit-learn>=0.21 in ./.venv/lib/python3.8/site-packages (from open3d->-r requirements.txt (line 10)) (1.3.2)\n",
      "Requirement already satisfied: pyquaternion in ./.venv/lib/python3.8/site-packages (from open3d->-r requirements.txt (line 10)) (0.9.9)\n",
      "Requirement already satisfied: contourpy>=1.0.1 in ./.venv/lib/python3.8/site-packages (from matplotlib->-r requirements.txt (line 11)) (1.1.1)\n",
      "Requirement already satisfied: cycler>=0.10 in ./.venv/lib/python3.8/site-packages (from matplotlib->-r requirements.txt (line 11)) (0.12.1)\n",
      "Requirement already satisfied: fonttools>=4.22.0 in ./.venv/lib/python3.8/site-packages (from matplotlib->-r requirements.txt (line 11)) (4.55.3)\n",
      "Requirement already satisfied: kiwisolver>=1.0.1 in ./.venv/lib/python3.8/site-packages (from matplotlib->-r requirements.txt (line 11)) (1.4.7)\n",
      "Requirement already satisfied: pyparsing>=2.3.1 in ./.venv/lib/python3.8/site-packages (from matplotlib->-r requirements.txt (line 11)) (3.1.4)\n",
      "Requirement already satisfied: importlib-resources>=3.2.0 in ./.venv/lib/python3.8/site-packages (from matplotlib->-r requirements.txt (line 11)) (6.4.5)\n",
      "Requirement already satisfied: Flask<3.1,>=1.0.4 in ./.venv/lib/python3.8/site-packages (from dash>=2.6.0->open3d->-r requirements.txt (line 10)) (3.0.3)\n",
      "Requirement already satisfied: plotly>=5.0.0 in ./.venv/lib/python3.8/site-packages (from dash>=2.6.0->open3d->-r requirements.txt (line 10)) (5.24.1)\n",
      "Requirement already satisfied: dash-html-components==2.0.0 in ./.venv/lib/python3.8/site-packages (from dash>=2.6.0->open3d->-r requirements.txt (line 10)) (2.0.0)\n",
      "Requirement already satisfied: dash-core-components==2.0.0 in ./.venv/lib/python3.8/site-packages (from dash>=2.6.0->open3d->-r requirements.txt (line 10)) (2.0.0)\n",
      "Requirement already satisfied: dash-table==5.0.0 in ./.venv/lib/python3.8/site-packages (from dash>=2.6.0->open3d->-r requirements.txt (line 10)) (5.0.0)\n",
      "Requirement already satisfied: importlib-metadata in ./.venv/lib/python3.8/site-packages (from dash>=2.6.0->open3d->-r requirements.txt (line 10)) (8.5.0)\n",
      "Requirement already satisfied: retrying in ./.venv/lib/python3.8/site-packages (from dash>=2.6.0->open3d->-r requirements.txt (line 10)) (1.3.4)\n",
      "Requirement already satisfied: setuptools in ./.venv/lib/python3.8/site-packages (from dash>=2.6.0->open3d->-r requirements.txt (line 10)) (75.3.0)\n",
      "Requirement already satisfied: zipp>=3.1.0 in ./.venv/lib/python3.8/site-packages (from importlib-resources>=3.2.0->matplotlib->-r requirements.txt (line 11)) (3.20.2)\n",
      "Requirement already satisfied: backcall in ./.venv/lib/python3.8/site-packages (from ipython>=7.23.1->ipykernel->-r requirements.txt (line 8)) (0.2.0)\n",
      "Requirement already satisfied: decorator in ./.venv/lib/python3.8/site-packages (from ipython>=7.23.1->ipykernel->-r requirements.txt (line 8)) (5.1.1)\n",
      "Requirement already satisfied: jedi>=0.16 in ./.venv/lib/python3.8/site-packages (from ipython>=7.23.1->ipykernel->-r requirements.txt (line 8)) (0.19.2)\n",
      "Requirement already satisfied: pickleshare in ./.venv/lib/python3.8/site-packages (from ipython>=7.23.1->ipykernel->-r requirements.txt (line 8)) (0.7.5)\n",
      "Requirement already satisfied: prompt-toolkit!=3.0.37,<3.1.0,>=3.0.30 in ./.venv/lib/python3.8/site-packages (from ipython>=7.23.1->ipykernel->-r requirements.txt (line 8)) (3.0.48)\n",
      "Requirement already satisfied: pygments>=2.4.0 in ./.venv/lib/python3.8/site-packages (from ipython>=7.23.1->ipykernel->-r requirements.txt (line 8)) (2.18.0)\n",
      "Requirement already satisfied: stack-data in ./.venv/lib/python3.8/site-packages (from ipython>=7.23.1->ipykernel->-r requirements.txt (line 8)) (0.6.3)\n",
      "Requirement already satisfied: pexpect>4.3 in ./.venv/lib/python3.8/site-packages (from ipython>=7.23.1->ipykernel->-r requirements.txt (line 8)) (4.9.0)\n",
      "Requirement already satisfied: widgetsnbextension~=4.0.12 in ./.venv/lib/python3.8/site-packages (from ipywidgets>=8.0.4->open3d->-r requirements.txt (line 10)) (4.0.13)\n",
      "Requirement already satisfied: jupyterlab-widgets~=3.0.12 in ./.venv/lib/python3.8/site-packages (from ipywidgets>=8.0.4->open3d->-r requirements.txt (line 10)) (3.0.13)\n",
      "Requirement already satisfied: platformdirs>=2.5 in ./.venv/lib/python3.8/site-packages (from jupyter-core!=5.0.*,>=4.12->ipykernel->-r requirements.txt (line 8)) (4.3.6)\n",
      "Requirement already satisfied: fastjsonschema>=2.15 in ./.venv/lib/python3.8/site-packages (from nbformat>=5.7.0->open3d->-r requirements.txt (line 10)) (2.21.1)\n",
      "Requirement already satisfied: jsonschema>=2.6 in ./.venv/lib/python3.8/site-packages (from nbformat>=5.7.0->open3d->-r requirements.txt (line 10)) (4.23.0)\n",
      "Requirement already satisfied: six>=1.5 in ./.venv/lib/python3.8/site-packages (from python-dateutil>=2.8.2->pandas->-r requirements.txt (line 6)) (1.17.0)\n",
      "Requirement already satisfied: scipy>=1.5.0 in ./.venv/lib/python3.8/site-packages (from scikit-learn>=0.21->open3d->-r requirements.txt (line 10)) (1.10.1)\n",
      "Requirement already satisfied: joblib>=1.1.1 in ./.venv/lib/python3.8/site-packages (from scikit-learn>=0.21->open3d->-r requirements.txt (line 10)) (1.4.2)\n",
      "Requirement already satisfied: threadpoolctl>=2.0.0 in ./.venv/lib/python3.8/site-packages (from scikit-learn>=0.21->open3d->-r requirements.txt (line 10)) (3.5.0)\n",
      "Requirement already satisfied: MarkupSafe>=2.1.1 in ./.venv/lib/python3.8/site-packages (from werkzeug>=2.2.3->open3d->-r requirements.txt (line 10)) (2.1.5)\n",
      "Requirement already satisfied: mpmath<1.4,>=1.1.0 in ./.venv/lib/python3.8/site-packages (from sympy->torch->-r requirements.txt (line 1)) (1.3.0)\n",
      "Requirement already satisfied: itsdangerous>=2.1.2 in ./.venv/lib/python3.8/site-packages (from Flask<3.1,>=1.0.4->dash>=2.6.0->open3d->-r requirements.txt (line 10)) (2.2.0)\n",
      "Requirement already satisfied: click>=8.1.3 in ./.venv/lib/python3.8/site-packages (from Flask<3.1,>=1.0.4->dash>=2.6.0->open3d->-r requirements.txt (line 10)) (8.1.7)\n",
      "Requirement already satisfied: blinker>=1.6.2 in ./.venv/lib/python3.8/site-packages (from Flask<3.1,>=1.0.4->dash>=2.6.0->open3d->-r requirements.txt (line 10)) (1.8.2)\n",
      "Requirement already satisfied: parso<0.9.0,>=0.8.4 in ./.venv/lib/python3.8/site-packages (from jedi>=0.16->ipython>=7.23.1->ipykernel->-r requirements.txt (line 8)) (0.8.4)\n",
      "Requirement already satisfied: attrs>=22.2.0 in ./.venv/lib/python3.8/site-packages (from jsonschema>=2.6->nbformat>=5.7.0->open3d->-r requirements.txt (line 10)) (24.2.0)\n",
      "Requirement already satisfied: jsonschema-specifications>=2023.03.6 in ./.venv/lib/python3.8/site-packages (from jsonschema>=2.6->nbformat>=5.7.0->open3d->-r requirements.txt (line 10)) (2023.12.1)\n",
      "Requirement already satisfied: pkgutil-resolve-name>=1.3.10 in ./.venv/lib/python3.8/site-packages (from jsonschema>=2.6->nbformat>=5.7.0->open3d->-r requirements.txt (line 10)) (1.3.10)\n",
      "Requirement already satisfied: referencing>=0.28.4 in ./.venv/lib/python3.8/site-packages (from jsonschema>=2.6->nbformat>=5.7.0->open3d->-r requirements.txt (line 10)) (0.35.1)\n",
      "Requirement already satisfied: rpds-py>=0.7.1 in ./.venv/lib/python3.8/site-packages (from jsonschema>=2.6->nbformat>=5.7.0->open3d->-r requirements.txt (line 10)) (0.20.1)\n",
      "Requirement already satisfied: ptyprocess>=0.5 in ./.venv/lib/python3.8/site-packages (from pexpect>4.3->ipython>=7.23.1->ipykernel->-r requirements.txt (line 8)) (0.7.0)\n",
      "Requirement already satisfied: tenacity>=6.2.0 in ./.venv/lib/python3.8/site-packages (from plotly>=5.0.0->dash>=2.6.0->open3d->-r requirements.txt (line 10)) (9.0.0)\n",
      "Requirement already satisfied: wcwidth in ./.venv/lib/python3.8/site-packages (from prompt-toolkit!=3.0.37,<3.1.0,>=3.0.30->ipython>=7.23.1->ipykernel->-r requirements.txt (line 8)) (0.2.13)\n",
      "Requirement already satisfied: executing>=1.2.0 in ./.venv/lib/python3.8/site-packages (from stack-data->ipython>=7.23.1->ipykernel->-r requirements.txt (line 8)) (2.1.0)\n",
      "Requirement already satisfied: asttokens>=2.1.0 in ./.venv/lib/python3.8/site-packages (from stack-data->ipython>=7.23.1->ipykernel->-r requirements.txt (line 8)) (3.0.0)\n",
      "Requirement already satisfied: pure-eval in ./.venv/lib/python3.8/site-packages (from stack-data->ipython>=7.23.1->ipykernel->-r requirements.txt (line 8)) (0.2.3)\n",
      "Note: you may need to restart the kernel to use updated packages.\n"
     ]
    }
   ],
   "source": [
    "%pip install -U -r requirements.txt"
   ]
  },
  {
   "cell_type": "markdown",
   "metadata": {},
   "source": [
    "Check if we have GPU support, and if not, warn the user.\n"
   ]
  },
  {
   "cell_type": "code",
   "execution_count": 2,
   "metadata": {
    "tags": []
   },
   "outputs": [
    {
     "name": "stdout",
     "output_type": "stream",
     "text": [
      "CUDA is available!\n"
     ]
    }
   ],
   "source": [
    "import torch\n",
    "import warnings\n",
    "\n",
    "if torch.cuda.is_available():\n",
    "    print(\"CUDA is available!\")\n",
    "else:\n",
    "    warnings.warn(\"CUDA is not available. Running on CPU.\")"
   ]
  },
  {
   "cell_type": "markdown",
   "metadata": {},
   "source": [
    "Load our dataset...\n"
   ]
  },
  {
   "cell_type": "code",
   "execution_count": 1,
   "metadata": {
    "scrolled": true,
    "tags": []
   },
   "outputs": [
    {
     "name": "stdout",
     "output_type": "stream",
     "text": [
      "Jupyter environment detected. Enabling Open3D WebVisualizer.\n",
      "[Open3D INFO] WebRTC GUI backend enabled.\n",
      "[Open3D INFO] WebRTCWindowSystem: HTTP handshake server disabled.\n",
      "Train and test data found. Reading data...\n",
      "Training data: 9843 samples\n",
      "Test data size: 2468 samples\n",
      "Class count: 40\n"
     ]
    }
   ],
   "source": [
    "import os\n",
    "from data_sources.modelnet40 import ModelNet40\n",
    "from models.dataset import PointCloudDataset\n",
    "from models.data_source_info import DataSourceInfo\n",
    "from typing import List\n",
    "import json\n",
    "\n",
    "train_folder = \"data/train\"\n",
    "test_folder = \"data/test\"\n",
    "info_folder = \"data\"\n",
    "\n",
    "train_dataset: PointCloudDataset = None\n",
    "test_dataset: PointCloudDataset = None\n",
    "datasource_info: DataSourceInfo = None\n",
    "\n",
    "if (\n",
    "    os.path.exists(train_folder)\n",
    "    and os.path.exists(test_folder)\n",
    "    and os.path.exists(os.path.join(info_folder, \"data_info.json\"))\n",
    "):\n",
    "    print(\"Train and test data found. Reading data...\")\n",
    "    train_files: List[str] = []\n",
    "    test_files: List[str] = []\n",
    "\n",
    "    for root, dirs, files in os.walk(train_folder):\n",
    "        for file in files:\n",
    "            train_files.append(os.path.join(root, file))\n",
    "\n",
    "    for root, dirs, files in os.walk(test_folder):\n",
    "        for file in files:\n",
    "            test_files.append(os.path.join(root, file))\n",
    "\n",
    "    train_dataset = PointCloudDataset(train_files)\n",
    "    test_dataset = PointCloudDataset(test_files)\n",
    "    datasource_info = DataSourceInfo(\n",
    "        **json.load(open(os.path.join(info_folder, \"data_info.json\"), \"r\"))\n",
    "    )\n",
    "else:\n",
    "    datasource_info, train_dataset, test_dataset = ModelNet40.download(\n",
    "        npoints=2500,\n",
    "        train_outdir=train_folder,\n",
    "        test_outdir=test_folder,\n",
    "        info_outdir=info_folder,\n",
    "    )\n",
    "\n",
    "print(f\"Training data: {len(train_dataset)} samples\")\n",
    "print(f\"Test data size: {len(test_dataset)} samples\")\n",
    "print(f\"Class count: {len(datasource_info.class_names)}\")"
   ]
  },
  {
   "cell_type": "markdown",
   "metadata": {},
   "source": [
    "# Training\n",
    "\n",
    "Train a new classifier or load a new pre-trained one:\n"
   ]
  },
  {
   "cell_type": "code",
   "execution_count": 2,
   "metadata": {
    "scrolled": true,
    "tags": []
   },
   "outputs": [
    {
     "name": "stdout",
     "output_type": "stream",
     "text": [
      "Loading existing model from pointnet/cls/cls_model_24.pth...\n",
      "Classifier loaded successfully.\n"
     ]
    },
    {
     "name": "stderr",
     "output_type": "stream",
     "text": [
      "Evaluating classifier: 100%|███████████████████████████████████████████████████████████████████████| 2468/2468 [00:37<00:00, 65.20it/s]"
     ]
    },
    {
     "name": "stdout",
     "output_type": "stream",
     "text": [
      "Overall accuracy: \u001b[38;2;141;255;0m88.94%\u001b[0m\n",
      "Accuracy by class:\n",
      "airplane: \u001b[38;2;0;255;0m100.00%\u001b[0m\n",
      "bathtub: \u001b[38;2;101;255;0m92.00%\u001b[0m\n",
      "bed: \u001b[38;2;25;255;0m98.00%\u001b[0m\n",
      "bench: \u001b[38;2;255;127;0m70.00%\u001b[0m\n",
      "bookshelf: \u001b[38;2;114;255;0m91.00%\u001b[0m\n",
      "bottle: \u001b[38;2;63;255;0m95.00%\u001b[0m\n",
      "bowl: \u001b[38;2;0;255;0m100.00%\u001b[0m\n",
      "car: \u001b[38;2;38;255;0m97.00%\u001b[0m\n",
      "chair: \u001b[38;2;25;255;0m98.00%\u001b[0m\n",
      "cone: \u001b[38;2;191;255;0m85.00%\u001b[0m\n",
      "cup: \u001b[38;2;255;0;0m60.00%\u001b[0m\n",
      "curtain: \u001b[38;2;191;255;0m85.00%\u001b[0m\n",
      "desk: \u001b[38;2;207;255;0m83.72%\u001b[0m\n",
      "door: \u001b[38;2;127;255;0m90.00%\u001b[0m\n",
      "dresser: \u001b[38;2;222;255;0m82.56%\u001b[0m\n",
      "flower_pot: \u001b[38;2;255;0;0m15.00%\u001b[0m\n",
      "glass_box: \u001b[38;2;25;255;0m98.00%\u001b[0m\n",
      "guitar: \u001b[38;2;51;255;0m96.00%\u001b[0m\n",
      "keyboard: \u001b[38;2;63;255;0m95.00%\u001b[0m\n",
      "lamp: \u001b[38;2;255;255;0m80.00%\u001b[0m\n",
      "laptop: \u001b[38;2;0;255;0m100.00%\u001b[0m\n",
      "mantel: \u001b[38;2;51;255;0m96.00%\u001b[0m\n",
      "monitor: \u001b[38;2;76;255;0m94.00%\u001b[0m\n",
      "night_stand: \u001b[38;2;255;169;0m73.26%\u001b[0m\n",
      "person: \u001b[38;2;191;255;0m85.00%\u001b[0m\n",
      "piano: \u001b[38;2;178;255;0m86.00%\u001b[0m\n",
      "plant: \u001b[38;2;242;255;0m81.00%\u001b[0m\n",
      "radio: \u001b[38;2;255;0;0m50.00%\u001b[0m\n",
      "range_hood: \u001b[38;2;178;255;0m86.00%\u001b[0m\n",
      "sink: \u001b[38;2;255;63;0m65.00%\u001b[0m\n",
      "sofa: \u001b[38;2;12;255;0m99.00%\u001b[0m\n",
      "stairs: \u001b[38;2;255;0;0m60.00%\u001b[0m\n",
      "stool: \u001b[38;2;255;191;0m75.00%\u001b[0m\n",
      "table: \u001b[38;2;114;255;0m91.00%\u001b[0m\n",
      "tent: \u001b[38;2;127;255;0m90.00%\u001b[0m\n",
      "toilet: \u001b[38;2;25;255;0m98.00%\u001b[0m\n",
      "tv_stand: \u001b[38;2;140;255;0m89.00%\u001b[0m\n",
      "vase: \u001b[38;2;242;255;0m81.00%\u001b[0m\n",
      "wardrobe: \u001b[38;2;255;0;0m55.00%\u001b[0m\n",
      "xbox: \u001b[38;2;191;255;0m85.00%\u001b[0m\n"
     ]
    },
    {
     "name": "stderr",
     "output_type": "stream",
     "text": [
      "\n"
     ]
    }
   ],
   "source": [
    "from pointnet.classification import train_classifier, evaluate_classifier\n",
    "from pointnet.model import PointNetCls\n",
    "import os\n",
    "import torch\n",
    "from utils.string import format_accuracy\n",
    "\n",
    "classifier_path = \"pointnet/cls/cls_model_24.pth\"  # pointnet/classifier.pth\n",
    "\n",
    "if classifier_path and os.path.exists(classifier_path):\n",
    "    print(f\"Loading existing model from {classifier_path}...\")\n",
    "    classifier = PointNetCls(k=len(datasource_info.class_names))\n",
    "    classifier.load_state_dict(torch.load(classifier_path, weights_only=True))\n",
    "    print(\"Classifier loaded successfully.\")\n",
    "\n",
    "    acc, acc_by_class = evaluate_classifier(classifier, test_dataset)\n",
    "\n",
    "    print(f\"Overall accuracy: {format_accuracy(acc)}\")\n",
    "    print(\"Accuracy by class:\")\n",
    "    for i, class_acc in acc_by_class.items():\n",
    "        print(f\"{datasource_info.class_names[i]}: {format_accuracy(class_acc)}\")\n",
    "\n",
    "else:\n",
    "    classifier = train_classifier(\n",
    "        train_dataset=train_dataset,\n",
    "        test_dataset=test_dataset,\n",
    "        k=len(datasource_info.class_names),\n",
    "        epochs=25,\n",
    "        outf=\"./pointnet/cls\",\n",
    "    )"
   ]
  },
  {
   "cell_type": "markdown",
   "metadata": {},
   "source": [
    "Run classification on a random test entry to visualize it:\n"
   ]
  },
  {
   "cell_type": "code",
   "execution_count": 13,
   "metadata": {},
   "outputs": [
    {
     "data": {
      "text/html": [
       "\n",
       "            <details>\n",
       "                <summary>Scores</summary>\n",
       "                <ul>\n",
       "                    <li>airplane: -23.332870483398438</li><li>bathtub: -18.512901306152344</li><li>bed: -15.650726318359375</li><li>bench: -18.50235366821289</li><li>bookshelf: -22.875917434692383</li><li>bottle: -23.30524253845215</li><li>bowl: -23.00313949584961</li><li>car: -19.12782096862793</li><li>chair: -23.093875885009766</li><li>cone: -25.18187141418457</li><li>cup: -25.166963577270508</li><li>curtain: -23.920822143554688</li><li>desk: -18.472579956054688</li><li>door: -27.31304168701172</li><li>dresser: -22.086580276489258</li><li>flower_pot: -20.752880096435547</li><li>glass_box: -20.729515075683594</li><li>guitar: -19.323833465576172</li><li>keyboard: -23.263856887817383</li><li>lamp: -25.83621597290039</li><li>laptop: -16.92438507080078</li><li>mantel: -21.366432189941406</li><li>monitor: -21.28411102294922</li><li>night_stand: -23.147705078125</li><li>person: -27.003929138183594</li><li>piano: -22.550453186035156</li><li>plant: -22.12135887145996</li><li>radio: -19.644927978515625</li><li>range_hood: -18.420639038085938</li><li>sink: -24.190303802490234</li><li>sofa: -2.3841855067985307e-07</li><li>stairs: -19.208786010742188</li><li>stool: -25.98489761352539</li><li>table: -20.946325302124023</li><li>tent: -21.03727912902832</li><li>toilet: -24.952743530273438</li><li>tv_stand: -19.371543884277344</li><li>vase: -21.4544734954834</li><li>wardrobe: -23.24580955505371</li><li>xbox: -24.011642456054688</li>\n",
       "                </ul>\n",
       "            </details>\n",
       "            "
      ],
      "text/plain": [
       "<IPython.core.display.HTML object>"
      ]
     },
     "metadata": {},
     "output_type": "display_data"
    },
    {
     "name": "stdout",
     "output_type": "stream",
     "text": [
      "\u001b[32m✓\u001b[0m Predicted class: \u001b[32msofa (30)\u001b[0m\n"
     ]
    },
    {
     "data": {
      "image/png": "[encoded data removed]",
      "text/plain": [
       "<Figure size 640x480 with 1 Axes>"
      ]
     },
     "metadata": {},
     "output_type": "display_data"
    }
   ],
   "source": [
    "import random\n",
    "import torch\n",
    "from utils.plot import plot_points\n",
    "from utils.display import show_collapsible_list\n",
    "\n",
    "i = random.randint(0, len(test_dataset) - 1)\n",
    "\n",
    "input_data = test_dataset[i][0].unsqueeze(0)\n",
    "input_data = input_data.transpose(1, 2)\n",
    "\n",
    "classifier.eval()\n",
    "\n",
    "with torch.no_grad():\n",
    "    output = classifier(input_data)\n",
    "\n",
    "\n",
    "scores: torch.Tensor = output[0][0]\n",
    "exp = int(test_dataset[i][1])\n",
    "pre = scores.argmax().item()\n",
    "show_collapsible_list(\n",
    "    \"Scores\",\n",
    "    map(\n",
    "        lambda x: f\"{datasource_info.class_names[x[0]]}: {x[1]}\",\n",
    "        enumerate(scores.tolist()),\n",
    "    ),\n",
    ")\n",
    "if exp == pre:\n",
    "    print(\n",
    "        f\"\\033[32m✓\\033[0m Predicted class: \\033[32m{datasource_info.class_names[pre]} ({pre})\\033[0m\"\n",
    "    )\n",
    "else:\n",
    "    print(\n",
    "        f\"\\033[31m✗\\033[0m Predicted class: \\033[31m{datasource_info.class_names[exp]} ({exp})\\033[0m (Expected: {datasource_info.class_names[pre]} ({pre}))\"\n",
    "    )\n",
    "\n",
    "points = input_data[0].transpose(0, 1).numpy()\n",
    "plot_points(points)"
   ]
  },
  {
   "cell_type": "markdown",
   "metadata": {},
   "source": [
    "Train the segmenter:\n"
   ]
  },
  {
   "cell_type": "code",
   "execution_count": 6,
   "metadata": {
    "tags": []
   },
   "outputs": [
    {
     "name": "stdout",
     "output_type": "stream",
     "text": [
      "Random Seed:  9118\n"
     ]
    },
    {
     "ename": "ValueError",
     "evalue": "Expected input batch_size (80000) to match target batch_size (32).",
     "output_type": "error",
     "traceback": [
      "\u001b[0;31m---------------------------------------------------------------------------\u001b[0m",
      "\u001b[0;31mValueError\u001b[0m                                Traceback (most recent call last)",
      "Cell \u001b[0;32mIn[6], line 3\u001b[0m\n\u001b[1;32m      1\u001b[0m \u001b[38;5;28;01mfrom\u001b[39;00m \u001b[38;5;21;01mpointnet\u001b[39;00m\u001b[38;5;21;01m.\u001b[39;00m\u001b[38;5;21;01msegmentation\u001b[39;00m \u001b[38;5;28;01mimport\u001b[39;00m train_segmentation\n\u001b[0;32m----> 3\u001b[0m \u001b[43mtrain_segmentation\u001b[49m\u001b[43m(\u001b[49m\n\u001b[1;32m      4\u001b[0m \u001b[43m    \u001b[49m\u001b[43mtrain_dataset\u001b[49m\u001b[38;5;241;43m=\u001b[39;49m\u001b[43mtrain_dataset\u001b[49m\u001b[43m,\u001b[49m\n\u001b[1;32m      5\u001b[0m \u001b[43m    \u001b[49m\u001b[43mtest_dataset\u001b[49m\u001b[38;5;241;43m=\u001b[39;49m\u001b[43mtest_dataset\u001b[49m\u001b[43m,\u001b[49m\n\u001b[1;32m      6\u001b[0m \u001b[43m    \u001b[49m\u001b[43mk\u001b[49m\u001b[38;5;241;43m=\u001b[39;49m\u001b[38;5;28;43mlen\u001b[39;49m\u001b[43m(\u001b[49m\u001b[43mdatasource_info\u001b[49m\u001b[38;5;241;43m.\u001b[39;49m\u001b[43mclass_names\u001b[49m\u001b[43m)\u001b[49m\u001b[43m,\u001b[49m\n\u001b[1;32m      7\u001b[0m \u001b[43m    \u001b[49m\u001b[43mepochs\u001b[49m\u001b[38;5;241;43m=\u001b[39;49m\u001b[38;5;241;43m25\u001b[39;49m\u001b[43m,\u001b[49m\n\u001b[1;32m      8\u001b[0m \u001b[43m    \u001b[49m\u001b[43mclass_choice\u001b[49m\u001b[38;5;241;43m=\u001b[39;49m\u001b[38;5;241;43m0\u001b[39;49m\u001b[43m,\u001b[49m\n\u001b[1;32m      9\u001b[0m \u001b[43m    \u001b[49m\u001b[43moutf\u001b[49m\u001b[38;5;241;43m=\u001b[39;49m\u001b[38;5;124;43m\"\u001b[39;49m\u001b[38;5;124;43m./pointnet/seg\u001b[39;49m\u001b[38;5;124;43m\"\u001b[39;49m\u001b[43m,\u001b[49m\n\u001b[1;32m     10\u001b[0m \u001b[43m)\u001b[49m\n",
      "File \u001b[0;32m~/research-project-python/pointnet/segmentation.py:71\u001b[0m, in \u001b[0;36mtrain_segmentation\u001b[0;34m(train_dataset, test_dataset, class_choice, k, batchSize, workers, epochs, outf, model, feature_transform)\u001b[0m\n\u001b[1;32m     69\u001b[0m target \u001b[38;5;241m=\u001b[39m target\u001b[38;5;241m.\u001b[39mview(\u001b[38;5;241m-\u001b[39m\u001b[38;5;241m1\u001b[39m, \u001b[38;5;241m1\u001b[39m)[:, \u001b[38;5;241m0\u001b[39m] \u001b[38;5;241m-\u001b[39m \u001b[38;5;241m1\u001b[39m\n\u001b[1;32m     70\u001b[0m \u001b[38;5;66;03m# print(pred.size(), target.size())\u001b[39;00m\n\u001b[0;32m---> 71\u001b[0m loss \u001b[38;5;241m=\u001b[39m \u001b[43mF\u001b[49m\u001b[38;5;241;43m.\u001b[39;49m\u001b[43mnll_loss\u001b[49m\u001b[43m(\u001b[49m\u001b[43mpred\u001b[49m\u001b[43m,\u001b[49m\u001b[43m \u001b[49m\u001b[43mtarget\u001b[49m\u001b[43m)\u001b[49m\n\u001b[1;32m     72\u001b[0m \u001b[38;5;28;01mif\u001b[39;00m feature_transform:\n\u001b[1;32m     73\u001b[0m     loss \u001b[38;5;241m+\u001b[39m\u001b[38;5;241m=\u001b[39m feature_transform_regularizer(trans_feat) \u001b[38;5;241m*\u001b[39m \u001b[38;5;241m0.001\u001b[39m\n",
      "File \u001b[0;32m~/research-project-python/.venv/lib/python3.8/site-packages/torch/nn/functional.py:2778\u001b[0m, in \u001b[0;36mnll_loss\u001b[0;34m(input, target, weight, size_average, ignore_index, reduce, reduction)\u001b[0m\n\u001b[1;32m   2776\u001b[0m \u001b[38;5;28;01mif\u001b[39;00m size_average \u001b[38;5;129;01mis\u001b[39;00m \u001b[38;5;129;01mnot\u001b[39;00m \u001b[38;5;28;01mNone\u001b[39;00m \u001b[38;5;129;01mor\u001b[39;00m reduce \u001b[38;5;129;01mis\u001b[39;00m \u001b[38;5;129;01mnot\u001b[39;00m \u001b[38;5;28;01mNone\u001b[39;00m:\n\u001b[1;32m   2777\u001b[0m     reduction \u001b[38;5;241m=\u001b[39m _Reduction\u001b[38;5;241m.\u001b[39mlegacy_get_string(size_average, reduce)\n\u001b[0;32m-> 2778\u001b[0m \u001b[38;5;28;01mreturn\u001b[39;00m \u001b[43mtorch\u001b[49m\u001b[38;5;241;43m.\u001b[39;49m\u001b[43m_C\u001b[49m\u001b[38;5;241;43m.\u001b[39;49m\u001b[43m_nn\u001b[49m\u001b[38;5;241;43m.\u001b[39;49m\u001b[43mnll_loss_nd\u001b[49m\u001b[43m(\u001b[49m\u001b[38;5;28;43minput\u001b[39;49m\u001b[43m,\u001b[49m\u001b[43m \u001b[49m\u001b[43mtarget\u001b[49m\u001b[43m,\u001b[49m\u001b[43m \u001b[49m\u001b[43mweight\u001b[49m\u001b[43m,\u001b[49m\u001b[43m \u001b[49m\u001b[43m_Reduction\u001b[49m\u001b[38;5;241;43m.\u001b[39;49m\u001b[43mget_enum\u001b[49m\u001b[43m(\u001b[49m\u001b[43mreduction\u001b[49m\u001b[43m)\u001b[49m\u001b[43m,\u001b[49m\u001b[43m \u001b[49m\u001b[43mignore_index\u001b[49m\u001b[43m)\u001b[49m\n",
      "\u001b[0;31mValueError\u001b[0m: Expected input batch_size (80000) to match target batch_size (32)."
     ]
    }
   ],
   "source": [
    "from pointnet.segmentation import train_segmentation\n",
    "\n",
    "train_segmentation(\n",
    "    train_dataset=train_dataset,\n",
    "    test_dataset=test_dataset,\n",
    "    k=len(datasource_info.class_names),\n",
    "    epochs=25,\n",
    "    class_choice=0,\n",
    "    outf=\"./pointnet/seg\",\n",
    ")"
   ]
  },
  {
   "cell_type": "code",
   "execution_count": null,
   "metadata": {},
   "outputs": [],
   "source": [
    " "
   ]
  }
 ],
 "metadata": {
  "kernelspec": {
   "display_name": ".venv",
   "language": "python",
   "name": "python3"
  },
  "language_info": {
   "codemirror_mode": {
    "name": "ipython",
    "version": 3
   },
   "file_extension": ".py",
   "mimetype": "text/x-python",
   "name": "python",
   "nbconvert_exporter": "python",
   "pygments_lexer": "ipython3",
   "version": "3.8.10"
  }
 },
 "nbformat": 4,
 "nbformat_minor": 4
}
