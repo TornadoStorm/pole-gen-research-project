{
  "cells": [
    {
      "cell_type": "markdown",
      "metadata": {},
      "source": [
        "# Setup\n",
        "\n",
        "Ensure all dependencies are installed.\n"
      ]
    },
    {
      "cell_type": "code",
      "execution_count": 1,
      "metadata": {
        "scrolled": true,
        "tags": []
      },
      "outputs": [
        {
          "name": "stdout",
          "output_type": "stream",
          "text": [
            "Collecting torch (from -r requirements.txt (line 1))\n",
            "  Using cached torch-2.5.1-cp310-cp310-manylinux1_x86_64.whl.metadata (28 kB)\n",
            "Collecting torchvision (from -r requirements.txt (line 2))\n",
            "  Using cached torchvision-0.20.1-cp310-cp310-manylinux1_x86_64.whl.metadata (6.1 kB)\n",
            "Collecting torchaudio (from -r requirements.txt (line 3))\n",
            "  Using cached torchaudio-2.5.1-cp310-cp310-manylinux1_x86_64.whl.metadata (6.4 kB)\n",
            "Collecting tqdm (from -r requirements.txt (line 4))\n",
            "  Using cached tqdm-4.67.1-py3-none-any.whl.metadata (57 kB)\n",
            "Collecting numpy (from -r requirements.txt (line 5))\n",
            "  Using cached numpy-2.2.0-cp310-cp310-manylinux_2_17_x86_64.manylinux2014_x86_64.whl.metadata (62 kB)\n",
            "Collecting pandas (from -r requirements.txt (line 6))\n",
            "  Using cached pandas-2.2.3-cp310-cp310-manylinux_2_17_x86_64.manylinux2014_x86_64.whl.metadata (89 kB)\n",
            "Collecting plyfile (from -r requirements.txt (line 7))\n",
            "  Using cached plyfile-1.1-py3-none-any.whl.metadata (2.1 kB)\n",
            "Requirement already satisfied: ipykernel in ./.conda/lib/python3.10/site-packages (from -r requirements.txt (line 8)) (6.29.5)\n",
            "Collecting requests (from -r requirements.txt (line 9))\n",
            "  Using cached requests-2.32.3-py3-none-any.whl.metadata (4.6 kB)\n",
            "Collecting open3d (from -r requirements.txt (line 10))\n",
            "  Using cached open3d-0.18.0-cp310-cp310-manylinux_2_27_x86_64.whl.metadata (4.2 kB)\n",
            "Collecting matplotlib (from -r requirements.txt (line 11))\n",
            "  Using cached matplotlib-3.10.0-cp310-cp310-manylinux_2_17_x86_64.manylinux2014_x86_64.whl.metadata (11 kB)\n",
            "Collecting filelock (from torch->-r requirements.txt (line 1))\n",
            "  Using cached filelock-3.16.1-py3-none-any.whl.metadata (2.9 kB)\n",
            "Requirement already satisfied: typing-extensions>=4.8.0 in ./.conda/lib/python3.10/site-packages (from torch->-r requirements.txt (line 1)) (4.12.2)\n",
            "Collecting networkx (from torch->-r requirements.txt (line 1))\n",
            "  Using cached networkx-3.4.2-py3-none-any.whl.metadata (6.3 kB)\n",
            "Collecting jinja2 (from torch->-r requirements.txt (line 1))\n",
            "  Using cached jinja2-3.1.4-py3-none-any.whl.metadata (2.6 kB)\n",
            "Collecting fsspec (from torch->-r requirements.txt (line 1))\n",
            "  Using cached fsspec-2024.10.0-py3-none-any.whl.metadata (11 kB)\n",
            "Collecting nvidia-cuda-nvrtc-cu12==12.4.127 (from torch->-r requirements.txt (line 1))\n",
            "  Using cached nvidia_cuda_nvrtc_cu12-12.4.127-py3-none-manylinux2014_x86_64.whl.metadata (1.5 kB)\n",
            "Collecting nvidia-cuda-runtime-cu12==12.4.127 (from torch->-r requirements.txt (line 1))\n",
            "  Using cached nvidia_cuda_runtime_cu12-12.4.127-py3-none-manylinux2014_x86_64.whl.metadata (1.5 kB)\n",
            "Collecting nvidia-cuda-cupti-cu12==12.4.127 (from torch->-r requirements.txt (line 1))\n",
            "  Using cached nvidia_cuda_cupti_cu12-12.4.127-py3-none-manylinux2014_x86_64.whl.metadata (1.6 kB)\n",
            "Collecting nvidia-cudnn-cu12==9.1.0.70 (from torch->-r requirements.txt (line 1))\n",
            "  Using cached nvidia_cudnn_cu12-9.1.0.70-py3-none-manylinux2014_x86_64.whl.metadata (1.6 kB)\n",
            "Collecting nvidia-cublas-cu12==12.4.5.8 (from torch->-r requirements.txt (line 1))\n",
            "  Using cached nvidia_cublas_cu12-12.4.5.8-py3-none-manylinux2014_x86_64.whl.metadata (1.5 kB)\n",
            "Collecting nvidia-cufft-cu12==11.2.1.3 (from torch->-r requirements.txt (line 1))\n",
            "  Using cached nvidia_cufft_cu12-11.2.1.3-py3-none-manylinux2014_x86_64.whl.metadata (1.5 kB)\n",
            "Collecting nvidia-curand-cu12==10.3.5.147 (from torch->-r requirements.txt (line 1))\n",
            "  Using cached nvidia_curand_cu12-10.3.5.147-py3-none-manylinux2014_x86_64.whl.metadata (1.5 kB)\n",
            "Collecting nvidia-cusolver-cu12==11.6.1.9 (from torch->-r requirements.txt (line 1))\n",
            "  Using cached nvidia_cusolver_cu12-11.6.1.9-py3-none-manylinux2014_x86_64.whl.metadata (1.6 kB)\n",
            "Collecting nvidia-cusparse-cu12==12.3.1.170 (from torch->-r requirements.txt (line 1))\n",
            "  Using cached nvidia_cusparse_cu12-12.3.1.170-py3-none-manylinux2014_x86_64.whl.metadata (1.6 kB)\n",
            "Collecting nvidia-nccl-cu12==2.21.5 (from torch->-r requirements.txt (line 1))\n",
            "  Using cached nvidia_nccl_cu12-2.21.5-py3-none-manylinux2014_x86_64.whl.metadata (1.8 kB)\n",
            "Collecting nvidia-nvtx-cu12==12.4.127 (from torch->-r requirements.txt (line 1))\n",
            "  Using cached nvidia_nvtx_cu12-12.4.127-py3-none-manylinux2014_x86_64.whl.metadata (1.7 kB)\n",
            "Collecting nvidia-nvjitlink-cu12==12.4.127 (from torch->-r requirements.txt (line 1))\n",
            "  Using cached nvidia_nvjitlink_cu12-12.4.127-py3-none-manylinux2014_x86_64.whl.metadata (1.5 kB)\n",
            "Collecting triton==3.1.0 (from torch->-r requirements.txt (line 1))\n",
            "  Using cached triton-3.1.0-cp310-cp310-manylinux_2_17_x86_64.manylinux2014_x86_64.whl.metadata (1.3 kB)\n",
            "Collecting sympy==1.13.1 (from torch->-r requirements.txt (line 1))\n",
            "  Using cached sympy-1.13.1-py3-none-any.whl.metadata (12 kB)\n",
            "Collecting mpmath<1.4,>=1.1.0 (from sympy==1.13.1->torch->-r requirements.txt (line 1))\n",
            "  Using cached mpmath-1.3.0-py3-none-any.whl.metadata (8.6 kB)\n",
            "Collecting pillow!=8.3.*,>=5.3.0 (from torchvision->-r requirements.txt (line 2))\n",
            "  Using cached pillow-11.0.0-cp310-cp310-manylinux_2_28_x86_64.whl.metadata (9.1 kB)\n",
            "Requirement already satisfied: python-dateutil>=2.8.2 in ./.conda/lib/python3.10/site-packages (from pandas->-r requirements.txt (line 6)) (2.9.0.post0)\n",
            "Collecting pytz>=2020.1 (from pandas->-r requirements.txt (line 6))\n",
            "  Using cached pytz-2024.2-py2.py3-none-any.whl.metadata (22 kB)\n",
            "Collecting tzdata>=2022.7 (from pandas->-r requirements.txt (line 6))\n",
            "  Using cached tzdata-2024.2-py2.py3-none-any.whl.metadata (1.4 kB)\n",
            "Requirement already satisfied: comm>=0.1.1 in ./.conda/lib/python3.10/site-packages (from ipykernel->-r requirements.txt (line 8)) (0.2.2)\n",
            "Requirement already satisfied: debugpy>=1.6.5 in ./.conda/lib/python3.10/site-packages (from ipykernel->-r requirements.txt (line 8)) (1.8.11)\n",
            "Requirement already satisfied: ipython>=7.23.1 in ./.conda/lib/python3.10/site-packages (from ipykernel->-r requirements.txt (line 8)) (8.30.0)\n",
            "Requirement already satisfied: jupyter-client>=6.1.12 in ./.conda/lib/python3.10/site-packages (from ipykernel->-r requirements.txt (line 8)) (8.6.3)\n",
            "Requirement already satisfied: jupyter-core!=5.0.*,>=4.12 in ./.conda/lib/python3.10/site-packages (from ipykernel->-r requirements.txt (line 8)) (5.7.2)\n",
            "Requirement already satisfied: matplotlib-inline>=0.1 in ./.conda/lib/python3.10/site-packages (from ipykernel->-r requirements.txt (line 8)) (0.1.7)\n",
            "Requirement already satisfied: nest-asyncio in ./.conda/lib/python3.10/site-packages (from ipykernel->-r requirements.txt (line 8)) (1.6.0)\n",
            "Requirement already satisfied: packaging in ./.conda/lib/python3.10/site-packages (from ipykernel->-r requirements.txt (line 8)) (24.2)\n",
            "Requirement already satisfied: psutil in ./.conda/lib/python3.10/site-packages (from ipykernel->-r requirements.txt (line 8)) (6.1.0)\n",
            "Requirement already satisfied: pyzmq>=24 in ./.conda/lib/python3.10/site-packages (from ipykernel->-r requirements.txt (line 8)) (26.2.0)\n",
            "Requirement already satisfied: tornado>=6.1 in ./.conda/lib/python3.10/site-packages (from ipykernel->-r requirements.txt (line 8)) (6.4.2)\n",
            "Requirement already satisfied: traitlets>=5.4.0 in ./.conda/lib/python3.10/site-packages (from ipykernel->-r requirements.txt (line 8)) (5.14.3)\n",
            "Collecting charset-normalizer<4,>=2 (from requests->-r requirements.txt (line 9))\n",
            "  Using cached charset_normalizer-3.4.0-cp310-cp310-manylinux_2_17_x86_64.manylinux2014_x86_64.whl.metadata (34 kB)\n",
            "Collecting idna<4,>=2.5 (from requests->-r requirements.txt (line 9))\n",
            "  Using cached idna-3.10-py3-none-any.whl.metadata (10 kB)\n",
            "Collecting urllib3<3,>=1.21.1 (from requests->-r requirements.txt (line 9))\n",
            "  Using cached urllib3-2.2.3-py3-none-any.whl.metadata (6.5 kB)\n",
            "Collecting certifi>=2017.4.17 (from requests->-r requirements.txt (line 9))\n",
            "  Using cached certifi-2024.12.14-py3-none-any.whl.metadata (2.3 kB)\n",
            "Collecting dash>=2.6.0 (from open3d->-r requirements.txt (line 10))\n",
            "  Using cached dash-2.18.2-py3-none-any.whl.metadata (10 kB)\n",
            "Collecting werkzeug>=2.2.3 (from open3d->-r requirements.txt (line 10))\n",
            "  Using cached werkzeug-3.1.3-py3-none-any.whl.metadata (3.7 kB)\n",
            "Collecting nbformat>=5.7.0 (from open3d->-r requirements.txt (line 10))\n",
            "  Using cached nbformat-5.10.4-py3-none-any.whl.metadata (3.6 kB)\n",
            "Collecting configargparse (from open3d->-r requirements.txt (line 10))\n",
            "  Using cached ConfigArgParse-1.7-py3-none-any.whl.metadata (23 kB)\n",
            "Collecting ipywidgets>=8.0.4 (from open3d->-r requirements.txt (line 10))\n",
            "  Using cached ipywidgets-8.1.5-py3-none-any.whl.metadata (2.3 kB)\n",
            "Collecting addict (from open3d->-r requirements.txt (line 10))\n",
            "  Using cached addict-2.4.0-py3-none-any.whl.metadata (1.0 kB)\n",
            "Collecting pyyaml>=5.4.1 (from open3d->-r requirements.txt (line 10))\n",
            "  Using cached PyYAML-6.0.2-cp310-cp310-manylinux_2_17_x86_64.manylinux2014_x86_64.whl.metadata (2.1 kB)\n",
            "Collecting scikit-learn>=0.21 (from open3d->-r requirements.txt (line 10))\n",
            "  Using cached scikit_learn-1.6.0-cp310-cp310-manylinux_2_17_x86_64.manylinux2014_x86_64.whl.metadata (18 kB)\n",
            "Collecting pyquaternion (from open3d->-r requirements.txt (line 10))\n",
            "  Using cached pyquaternion-0.9.9-py3-none-any.whl.metadata (1.4 kB)\n",
            "Collecting contourpy>=1.0.1 (from matplotlib->-r requirements.txt (line 11))\n",
            "  Using cached contourpy-1.3.1-cp310-cp310-manylinux_2_17_x86_64.manylinux2014_x86_64.whl.metadata (5.4 kB)\n",
            "Collecting cycler>=0.10 (from matplotlib->-r requirements.txt (line 11))\n",
            "  Using cached cycler-0.12.1-py3-none-any.whl.metadata (3.8 kB)\n",
            "Collecting fonttools>=4.22.0 (from matplotlib->-r requirements.txt (line 11))\n",
            "  Using cached fonttools-4.55.3-cp310-cp310-manylinux_2_17_x86_64.manylinux2014_x86_64.whl.metadata (165 kB)\n",
            "Collecting kiwisolver>=1.3.1 (from matplotlib->-r requirements.txt (line 11))\n",
            "  Using cached kiwisolver-1.4.7-cp310-cp310-manylinux_2_12_x86_64.manylinux2010_x86_64.whl.metadata (6.3 kB)\n",
            "Collecting pyparsing>=2.3.1 (from matplotlib->-r requirements.txt (line 11))\n",
            "  Using cached pyparsing-3.2.0-py3-none-any.whl.metadata (5.0 kB)\n",
            "Collecting Flask<3.1,>=1.0.4 (from dash>=2.6.0->open3d->-r requirements.txt (line 10))\n",
            "  Using cached flask-3.0.3-py3-none-any.whl.metadata (3.2 kB)\n",
            "Collecting werkzeug>=2.2.3 (from open3d->-r requirements.txt (line 10))\n",
            "  Using cached werkzeug-3.0.6-py3-none-any.whl.metadata (3.7 kB)\n",
            "Collecting plotly>=5.0.0 (from dash>=2.6.0->open3d->-r requirements.txt (line 10))\n",
            "  Using cached plotly-5.24.1-py3-none-any.whl.metadata (7.3 kB)\n",
            "Collecting dash-html-components==2.0.0 (from dash>=2.6.0->open3d->-r requirements.txt (line 10))\n",
            "  Using cached dash_html_components-2.0.0-py3-none-any.whl.metadata (3.8 kB)\n",
            "Collecting dash-core-components==2.0.0 (from dash>=2.6.0->open3d->-r requirements.txt (line 10))\n",
            "  Using cached dash_core_components-2.0.0-py3-none-any.whl.metadata (2.9 kB)\n",
            "Collecting dash-table==5.0.0 (from dash>=2.6.0->open3d->-r requirements.txt (line 10))\n",
            "  Using cached dash_table-5.0.0-py3-none-any.whl.metadata (2.4 kB)\n",
            "Requirement already satisfied: importlib-metadata in ./.conda/lib/python3.10/site-packages (from dash>=2.6.0->open3d->-r requirements.txt (line 10)) (8.5.0)\n",
            "Collecting retrying (from dash>=2.6.0->open3d->-r requirements.txt (line 10))\n",
            "  Using cached retrying-1.3.4-py3-none-any.whl.metadata (6.9 kB)\n",
            "Requirement already satisfied: setuptools in ./.conda/lib/python3.10/site-packages (from dash>=2.6.0->open3d->-r requirements.txt (line 10)) (75.6.0)\n",
            "Requirement already satisfied: decorator in ./.conda/lib/python3.10/site-packages (from ipython>=7.23.1->ipykernel->-r requirements.txt (line 8)) (5.1.1)\n",
            "Requirement already satisfied: exceptiongroup in ./.conda/lib/python3.10/site-packages (from ipython>=7.23.1->ipykernel->-r requirements.txt (line 8)) (1.2.2)\n",
            "Requirement already satisfied: jedi>=0.16 in ./.conda/lib/python3.10/site-packages (from ipython>=7.23.1->ipykernel->-r requirements.txt (line 8)) (0.19.2)\n",
            "Requirement already satisfied: pexpect>4.3 in ./.conda/lib/python3.10/site-packages (from ipython>=7.23.1->ipykernel->-r requirements.txt (line 8)) (4.9.0)\n",
            "Requirement already satisfied: prompt_toolkit<3.1.0,>=3.0.41 in ./.conda/lib/python3.10/site-packages (from ipython>=7.23.1->ipykernel->-r requirements.txt (line 8)) (3.0.48)\n",
            "Requirement already satisfied: pygments>=2.4.0 in ./.conda/lib/python3.10/site-packages (from ipython>=7.23.1->ipykernel->-r requirements.txt (line 8)) (2.18.0)\n",
            "Requirement already satisfied: stack_data in ./.conda/lib/python3.10/site-packages (from ipython>=7.23.1->ipykernel->-r requirements.txt (line 8)) (0.6.3)\n",
            "Collecting widgetsnbextension~=4.0.12 (from ipywidgets>=8.0.4->open3d->-r requirements.txt (line 10))\n",
            "  Using cached widgetsnbextension-4.0.13-py3-none-any.whl.metadata (1.6 kB)\n",
            "Collecting jupyterlab-widgets~=3.0.12 (from ipywidgets>=8.0.4->open3d->-r requirements.txt (line 10))\n",
            "  Using cached jupyterlab_widgets-3.0.13-py3-none-any.whl.metadata (4.1 kB)\n",
            "Requirement already satisfied: platformdirs>=2.5 in ./.conda/lib/python3.10/site-packages (from jupyter-core!=5.0.*,>=4.12->ipykernel->-r requirements.txt (line 8)) (4.3.6)\n",
            "Collecting fastjsonschema>=2.15 (from nbformat>=5.7.0->open3d->-r requirements.txt (line 10))\n",
            "  Using cached fastjsonschema-2.21.1-py3-none-any.whl.metadata (2.2 kB)\n",
            "Collecting jsonschema>=2.6 (from nbformat>=5.7.0->open3d->-r requirements.txt (line 10))\n",
            "  Using cached jsonschema-4.23.0-py3-none-any.whl.metadata (7.9 kB)\n",
            "Requirement already satisfied: six>=1.5 in ./.conda/lib/python3.10/site-packages (from python-dateutil>=2.8.2->pandas->-r requirements.txt (line 6)) (1.17.0)\n",
            "Collecting scipy>=1.6.0 (from scikit-learn>=0.21->open3d->-r requirements.txt (line 10))\n",
            "  Using cached scipy-1.14.1-cp310-cp310-manylinux_2_17_x86_64.manylinux2014_x86_64.whl.metadata (60 kB)\n",
            "Collecting joblib>=1.2.0 (from scikit-learn>=0.21->open3d->-r requirements.txt (line 10))\n",
            "  Using cached joblib-1.4.2-py3-none-any.whl.metadata (5.4 kB)\n",
            "Collecting threadpoolctl>=3.1.0 (from scikit-learn>=0.21->open3d->-r requirements.txt (line 10))\n",
            "  Using cached threadpoolctl-3.5.0-py3-none-any.whl.metadata (13 kB)\n",
            "Collecting MarkupSafe>=2.1.1 (from werkzeug>=2.2.3->open3d->-r requirements.txt (line 10))\n",
            "  Using cached MarkupSafe-3.0.2-cp310-cp310-manylinux_2_17_x86_64.manylinux2014_x86_64.whl.metadata (4.0 kB)\n",
            "Collecting itsdangerous>=2.1.2 (from Flask<3.1,>=1.0.4->dash>=2.6.0->open3d->-r requirements.txt (line 10))\n",
            "  Using cached itsdangerous-2.2.0-py3-none-any.whl.metadata (1.9 kB)\n",
            "Collecting click>=8.1.3 (from Flask<3.1,>=1.0.4->dash>=2.6.0->open3d->-r requirements.txt (line 10))\n",
            "  Using cached click-8.1.7-py3-none-any.whl.metadata (3.0 kB)\n",
            "Collecting blinker>=1.6.2 (from Flask<3.1,>=1.0.4->dash>=2.6.0->open3d->-r requirements.txt (line 10))\n",
            "  Using cached blinker-1.9.0-py3-none-any.whl.metadata (1.6 kB)\n",
            "Requirement already satisfied: parso<0.9.0,>=0.8.4 in ./.conda/lib/python3.10/site-packages (from jedi>=0.16->ipython>=7.23.1->ipykernel->-r requirements.txt (line 8)) (0.8.4)\n",
            "Collecting attrs>=22.2.0 (from jsonschema>=2.6->nbformat>=5.7.0->open3d->-r requirements.txt (line 10))\n",
            "  Using cached attrs-24.3.0-py3-none-any.whl.metadata (11 kB)\n",
            "Collecting jsonschema-specifications>=2023.03.6 (from jsonschema>=2.6->nbformat>=5.7.0->open3d->-r requirements.txt (line 10))\n",
            "  Using cached jsonschema_specifications-2024.10.1-py3-none-any.whl.metadata (3.0 kB)\n",
            "Collecting referencing>=0.28.4 (from jsonschema>=2.6->nbformat>=5.7.0->open3d->-r requirements.txt (line 10))\n",
            "  Using cached referencing-0.35.1-py3-none-any.whl.metadata (2.8 kB)\n",
            "Collecting rpds-py>=0.7.1 (from jsonschema>=2.6->nbformat>=5.7.0->open3d->-r requirements.txt (line 10))\n",
            "  Using cached rpds_py-0.22.3-cp310-cp310-manylinux_2_17_x86_64.manylinux2014_x86_64.whl.metadata (4.2 kB)\n",
            "Requirement already satisfied: ptyprocess>=0.5 in ./.conda/lib/python3.10/site-packages (from pexpect>4.3->ipython>=7.23.1->ipykernel->-r requirements.txt (line 8)) (0.7.0)\n",
            "Collecting tenacity>=6.2.0 (from plotly>=5.0.0->dash>=2.6.0->open3d->-r requirements.txt (line 10))\n",
            "  Using cached tenacity-9.0.0-py3-none-any.whl.metadata (1.2 kB)\n",
            "Requirement already satisfied: wcwidth in ./.conda/lib/python3.10/site-packages (from prompt_toolkit<3.1.0,>=3.0.41->ipython>=7.23.1->ipykernel->-r requirements.txt (line 8)) (0.2.13)\n",
            "Requirement already satisfied: zipp>=3.20 in ./.conda/lib/python3.10/site-packages (from importlib-metadata->dash>=2.6.0->open3d->-r requirements.txt (line 10)) (3.21.0)\n",
            "Requirement already satisfied: executing>=1.2.0 in ./.conda/lib/python3.10/site-packages (from stack_data->ipython>=7.23.1->ipykernel->-r requirements.txt (line 8)) (2.1.0)\n",
            "Requirement already satisfied: asttokens>=2.1.0 in ./.conda/lib/python3.10/site-packages (from stack_data->ipython>=7.23.1->ipykernel->-r requirements.txt (line 8)) (3.0.0)\n",
            "Requirement already satisfied: pure_eval in ./.conda/lib/python3.10/site-packages (from stack_data->ipython>=7.23.1->ipykernel->-r requirements.txt (line 8)) (0.2.3)\n",
            "Using cached torch-2.5.1-cp310-cp310-manylinux1_x86_64.whl (906.4 MB)\n",
            "Using cached nvidia_cublas_cu12-12.4.5.8-py3-none-manylinux2014_x86_64.whl (363.4 MB)\n",
            "Using cached nvidia_cuda_cupti_cu12-12.4.127-py3-none-manylinux2014_x86_64.whl (13.8 MB)\n",
            "Using cached nvidia_cuda_nvrtc_cu12-12.4.127-py3-none-manylinux2014_x86_64.whl (24.6 MB)\n",
            "Using cached nvidia_cuda_runtime_cu12-12.4.127-py3-none-manylinux2014_x86_64.whl (883 kB)\n",
            "Using cached nvidia_cudnn_cu12-9.1.0.70-py3-none-manylinux2014_x86_64.whl (664.8 MB)\n",
            "Using cached nvidia_cufft_cu12-11.2.1.3-py3-none-manylinux2014_x86_64.whl (211.5 MB)\n",
            "Using cached nvidia_curand_cu12-10.3.5.147-py3-none-manylinux2014_x86_64.whl (56.3 MB)\n",
            "Using cached nvidia_cusolver_cu12-11.6.1.9-py3-none-manylinux2014_x86_64.whl (127.9 MB)\n",
            "Using cached nvidia_cusparse_cu12-12.3.1.170-py3-none-manylinux2014_x86_64.whl (207.5 MB)\n",
            "Using cached nvidia_nccl_cu12-2.21.5-py3-none-manylinux2014_x86_64.whl (188.7 MB)\n",
            "Using cached nvidia_nvjitlink_cu12-12.4.127-py3-none-manylinux2014_x86_64.whl (21.1 MB)\n",
            "Using cached nvidia_nvtx_cu12-12.4.127-py3-none-manylinux2014_x86_64.whl (99 kB)\n",
            "Using cached sympy-1.13.1-py3-none-any.whl (6.2 MB)\n",
            "Using cached triton-3.1.0-cp310-cp310-manylinux_2_17_x86_64.manylinux2014_x86_64.whl (209.5 MB)\n",
            "Using cached torchvision-0.20.1-cp310-cp310-manylinux1_x86_64.whl (7.2 MB)\n",
            "Using cached torchaudio-2.5.1-cp310-cp310-manylinux1_x86_64.whl (3.4 MB)\n",
            "Using cached tqdm-4.67.1-py3-none-any.whl (78 kB)\n",
            "Downloading numpy-2.2.0-cp310-cp310-manylinux_2_17_x86_64.manylinux2014_x86_64.whl (16.4 MB)\n",
            "\u001b[2K   \u001b[90m━━━━━━━━━━━━━━━━━━━━━━━━━━━━━━━━━━━━━━━━\u001b[0m \u001b[32m16.4/16.4 MB\u001b[0m \u001b[31m157.4 MB/s\u001b[0m eta \u001b[36m0:00:00\u001b[0m\n",
            "\u001b[?25hUsing cached pandas-2.2.3-cp310-cp310-manylinux_2_17_x86_64.manylinux2014_x86_64.whl (13.1 MB)\n",
            "Using cached plyfile-1.1-py3-none-any.whl (23 kB)\n",
            "Using cached requests-2.32.3-py3-none-any.whl (64 kB)\n",
            "Using cached open3d-0.18.0-cp310-cp310-manylinux_2_27_x86_64.whl (399.7 MB)\n",
            "Using cached matplotlib-3.10.0-cp310-cp310-manylinux_2_17_x86_64.manylinux2014_x86_64.whl (8.6 MB)\n",
            "Using cached certifi-2024.12.14-py3-none-any.whl (164 kB)\n",
            "Using cached charset_normalizer-3.4.0-cp310-cp310-manylinux_2_17_x86_64.manylinux2014_x86_64.whl (144 kB)\n",
            "Using cached contourpy-1.3.1-cp310-cp310-manylinux_2_17_x86_64.manylinux2014_x86_64.whl (324 kB)\n",
            "Using cached cycler-0.12.1-py3-none-any.whl (8.3 kB)\n",
            "Using cached dash-2.18.2-py3-none-any.whl (7.8 MB)\n",
            "Using cached dash_core_components-2.0.0-py3-none-any.whl (3.8 kB)\n",
            "Using cached dash_html_components-2.0.0-py3-none-any.whl (4.1 kB)\n",
            "Using cached dash_table-5.0.0-py3-none-any.whl (3.9 kB)\n",
            "Using cached fonttools-4.55.3-cp310-cp310-manylinux_2_17_x86_64.manylinux2014_x86_64.whl (4.6 MB)\n",
            "Using cached idna-3.10-py3-none-any.whl (70 kB)\n",
            "Using cached ipywidgets-8.1.5-py3-none-any.whl (139 kB)\n",
            "Using cached kiwisolver-1.4.7-cp310-cp310-manylinux_2_12_x86_64.manylinux2010_x86_64.whl (1.6 MB)\n",
            "Using cached nbformat-5.10.4-py3-none-any.whl (78 kB)\n",
            "Using cached pillow-11.0.0-cp310-cp310-manylinux_2_28_x86_64.whl (4.4 MB)\n",
            "Using cached pyparsing-3.2.0-py3-none-any.whl (106 kB)\n",
            "Using cached pytz-2024.2-py2.py3-none-any.whl (508 kB)\n",
            "Using cached PyYAML-6.0.2-cp310-cp310-manylinux_2_17_x86_64.manylinux2014_x86_64.whl (751 kB)\n",
            "Using cached scikit_learn-1.6.0-cp310-cp310-manylinux_2_17_x86_64.manylinux2014_x86_64.whl (13.5 MB)\n",
            "Using cached tzdata-2024.2-py2.py3-none-any.whl (346 kB)\n",
            "Using cached urllib3-2.2.3-py3-none-any.whl (126 kB)\n",
            "Using cached werkzeug-3.0.6-py3-none-any.whl (227 kB)\n",
            "Using cached addict-2.4.0-py3-none-any.whl (3.8 kB)\n",
            "Using cached ConfigArgParse-1.7-py3-none-any.whl (25 kB)\n",
            "Using cached filelock-3.16.1-py3-none-any.whl (16 kB)\n",
            "Using cached fsspec-2024.10.0-py3-none-any.whl (179 kB)\n",
            "Using cached jinja2-3.1.4-py3-none-any.whl (133 kB)\n",
            "Using cached networkx-3.4.2-py3-none-any.whl (1.7 MB)\n",
            "Using cached pyquaternion-0.9.9-py3-none-any.whl (14 kB)\n",
            "Using cached fastjsonschema-2.21.1-py3-none-any.whl (23 kB)\n",
            "Using cached flask-3.0.3-py3-none-any.whl (101 kB)\n",
            "Using cached joblib-1.4.2-py3-none-any.whl (301 kB)\n",
            "Using cached jsonschema-4.23.0-py3-none-any.whl (88 kB)\n",
            "Using cached jupyterlab_widgets-3.0.13-py3-none-any.whl (214 kB)\n",
            "Using cached MarkupSafe-3.0.2-cp310-cp310-manylinux_2_17_x86_64.manylinux2014_x86_64.whl (20 kB)\n",
            "Using cached mpmath-1.3.0-py3-none-any.whl (536 kB)\n",
            "Using cached plotly-5.24.1-py3-none-any.whl (19.1 MB)\n",
            "Using cached scipy-1.14.1-cp310-cp310-manylinux_2_17_x86_64.manylinux2014_x86_64.whl (41.2 MB)\n",
            "Using cached threadpoolctl-3.5.0-py3-none-any.whl (18 kB)\n",
            "Using cached widgetsnbextension-4.0.13-py3-none-any.whl (2.3 MB)\n",
            "Using cached retrying-1.3.4-py3-none-any.whl (11 kB)\n",
            "Using cached attrs-24.3.0-py3-none-any.whl (63 kB)\n",
            "Using cached blinker-1.9.0-py3-none-any.whl (8.5 kB)\n",
            "Using cached click-8.1.7-py3-none-any.whl (97 kB)\n",
            "Using cached itsdangerous-2.2.0-py3-none-any.whl (16 kB)\n",
            "Using cached jsonschema_specifications-2024.10.1-py3-none-any.whl (18 kB)\n",
            "Using cached referencing-0.35.1-py3-none-any.whl (26 kB)\n",
            "Using cached rpds_py-0.22.3-cp310-cp310-manylinux_2_17_x86_64.manylinux2014_x86_64.whl (381 kB)\n",
            "Using cached tenacity-9.0.0-py3-none-any.whl (28 kB)\n",
            "Installing collected packages: pytz, mpmath, fastjsonschema, dash-table, dash-html-components, dash-core-components, addict, widgetsnbextension, urllib3, tzdata, tqdm, threadpoolctl, tenacity, sympy, rpds-py, retrying, pyyaml, pyparsing, pillow, nvidia-nvtx-cu12, nvidia-nvjitlink-cu12, nvidia-nccl-cu12, nvidia-curand-cu12, nvidia-cufft-cu12, nvidia-cuda-runtime-cu12, nvidia-cuda-nvrtc-cu12, nvidia-cuda-cupti-cu12, nvidia-cublas-cu12, numpy, networkx, MarkupSafe, kiwisolver, jupyterlab-widgets, joblib, itsdangerous, idna, fsspec, fonttools, filelock, cycler, configargparse, click, charset-normalizer, certifi, blinker, attrs, werkzeug, triton, scipy, requests, referencing, pyquaternion, plyfile, plotly, pandas, nvidia-cusparse-cu12, nvidia-cudnn-cu12, jinja2, contourpy, scikit-learn, nvidia-cusolver-cu12, matplotlib, jsonschema-specifications, ipywidgets, Flask, torch, jsonschema, dash, torchvision, torchaudio, nbformat, open3d\n",
            "Successfully installed Flask-3.0.3 MarkupSafe-3.0.2 addict-2.4.0 attrs-24.3.0 blinker-1.9.0 certifi-2024.12.14 charset-normalizer-3.4.0 click-8.1.7 configargparse-1.7 contourpy-1.3.1 cycler-0.12.1 dash-2.18.2 dash-core-components-2.0.0 dash-html-components-2.0.0 dash-table-5.0.0 fastjsonschema-2.21.1 filelock-3.16.1 fonttools-4.55.3 fsspec-2024.10.0 idna-3.10 ipywidgets-8.1.5 itsdangerous-2.2.0 jinja2-3.1.4 joblib-1.4.2 jsonschema-4.23.0 jsonschema-specifications-2024.10.1 jupyterlab-widgets-3.0.13 kiwisolver-1.4.7 matplotlib-3.10.0 mpmath-1.3.0 nbformat-5.10.4 networkx-3.4.2 numpy-2.2.0 nvidia-cublas-cu12-12.4.5.8 nvidia-cuda-cupti-cu12-12.4.127 nvidia-cuda-nvrtc-cu12-12.4.127 nvidia-cuda-runtime-cu12-12.4.127 nvidia-cudnn-cu12-9.1.0.70 nvidia-cufft-cu12-11.2.1.3 nvidia-curand-cu12-10.3.5.147 nvidia-cusolver-cu12-11.6.1.9 nvidia-cusparse-cu12-12.3.1.170 nvidia-nccl-cu12-2.21.5 nvidia-nvjitlink-cu12-12.4.127 nvidia-nvtx-cu12-12.4.127 open3d-0.18.0 pandas-2.2.3 pillow-11.0.0 plotly-5.24.1 plyfile-1.1 pyparsing-3.2.0 pyquaternion-0.9.9 pytz-2024.2 pyyaml-6.0.2 referencing-0.35.1 requests-2.32.3 retrying-1.3.4 rpds-py-0.22.3 scikit-learn-1.6.0 scipy-1.14.1 sympy-1.13.1 tenacity-9.0.0 threadpoolctl-3.5.0 torch-2.5.1 torchaudio-2.5.1 torchvision-0.20.1 tqdm-4.67.1 triton-3.1.0 tzdata-2024.2 urllib3-2.2.3 werkzeug-3.0.6 widgetsnbextension-4.0.13\n",
            "Note: you may need to restart the kernel to use updated packages.\n"
          ]
        }
      ],
      "source": [
        "%pip install -U -r requirements.txt"
      ]
    },
    {
      "cell_type": "markdown",
      "metadata": {},
      "source": [
        "Check if we have GPU support, and if not, warn the user.\n"
      ]
    },
    {
      "cell_type": "code",
      "execution_count": 2,
      "metadata": {
        "tags": []
      },
      "outputs": [
        {
          "name": "stdout",
          "output_type": "stream",
          "text": [
            "CUDA is available!\n"
          ]
        }
      ],
      "source": [
        "import torch\n",
        "import warnings\n",
        "\n",
        "if torch.cuda.is_available():\n",
        "    print(\"CUDA is available!\")\n",
        "else:\n",
        "    warnings.warn(\"CUDA is not available. Running on CPU.\")"
      ]
    },
    {
      "cell_type": "markdown",
      "metadata": {},
      "source": [
        "Load our dataset...\n"
      ]
    },
    {
      "cell_type": "code",
      "execution_count": 1,
      "metadata": {
        "scrolled": true,
        "tags": []
      },
      "outputs": [
        {
          "name": "stdout",
          "output_type": "stream",
          "text": [
            "Jupyter environment detected. Enabling Open3D WebVisualizer.\n",
            "[Open3D INFO] WebRTC GUI backend enabled.\n",
            "[Open3D INFO] WebRTCWindowSystem: HTTP handshake server disabled.\n",
            "Train and test data found. Reading data...\n",
            "Training data: 9843 samples\n",
            "Test data size: 2468 samples\n",
            "Class count: 40\n"
          ]
        }
      ],
      "source": [
        "import os\n",
        "from data_sources.modelnet40 import ModelNet40\n",
        "from models.dataset import PointCloudDataset\n",
        "from models.data_source_info import DataSourceInfo\n",
        "from typing import List\n",
        "import json\n",
        "\n",
        "train_folder = \"data/train\"\n",
        "test_folder = \"data/test\"\n",
        "info_folder = \"data\"\n",
        "\n",
        "train_dataset: PointCloudDataset = None\n",
        "test_dataset: PointCloudDataset = None\n",
        "datasource_info: DataSourceInfo = None\n",
        "\n",
        "if (\n",
        "    os.path.exists(train_folder)\n",
        "    and os.path.exists(test_folder)\n",
        "    and os.path.exists(os.path.join(info_folder, \"data_info.json\"))\n",
        "):\n",
        "    print(\"Train and test data found. Reading data...\")\n",
        "    train_files: List[str] = []\n",
        "    test_files: List[str] = []\n",
        "\n",
        "    for root, dirs, files in os.walk(train_folder):\n",
        "        for file in files:\n",
        "            train_files.append(os.path.join(root, file))\n",
        "\n",
        "    for root, dirs, files in os.walk(test_folder):\n",
        "        for file in files:\n",
        "            test_files.append(os.path.join(root, file))\n",
        "\n",
        "    train_dataset = PointCloudDataset(train_files)\n",
        "    test_dataset = PointCloudDataset(test_files)\n",
        "    datasource_info = DataSourceInfo(\n",
        "        **json.load(open(os.path.join(info_folder, \"data_info.json\"), \"r\"))\n",
        "    )\n",
        "else:\n",
        "    datasource_info, train_dataset, test_dataset = ModelNet40.download(\n",
        "        npoints=1000,\n",
        "        train_outdir=train_folder,\n",
        "        test_outdir=test_folder,\n",
        "        info_outdir=info_folder,\n",
        "    )\n",
        "\n",
        "print(f\"Training data: {len(train_dataset)} samples\")\n",
        "print(f\"Test data size: {len(test_dataset)} samples\")\n",
        "print(f\"Class count: {len(datasource_info.class_names)}\")"
      ]
    },
    {
      "cell_type": "markdown",
      "metadata": {},
      "source": [
        "# Training\n",
        "\n",
        "Train a new classifier or load a new pre-trained one:\n"
      ]
    },
    {
      "cell_type": "code",
      "execution_count": 2,
      "metadata": {
        "scrolled": true,
        "tags": []
      },
      "outputs": [
        {
          "name": "stdout",
          "output_type": "stream",
          "text": [
            "Loading existing model from pointnet/cls/cls_model_24.pth...\n",
            "Classifier loaded successfully.\n"
          ]
        },
        {
          "data": {
            "application/vnd.jupyter.widget-view+json": {
              "model_id": "f18751db399d46cfa32f51eb46eddd77",
              "version_major": 2,
              "version_minor": 0
            },
            "text/plain": [
              "Evaluating classifier:   0%|          | 0/2468 [00:00<?, ?it/s]"
            ]
          },
          "metadata": {},
          "output_type": "display_data"
        },
        {
          "name": "stdout",
          "output_type": "stream",
          "text": [
            "Overall accuracy: \u001b[38;2;164;255;0m87.12%\u001b[0m\n",
            "Accuracy by class:\n",
            " airplane: \u001b[38;2;0;255;0m100.00%\u001b[0m\n",
            " bathtub: \u001b[38;2;101;255;0m92.00%\u001b[0m\n",
            " bed: \u001b[38;2;127;255;0m90.00%\u001b[0m\n",
            " bench: \u001b[38;2;255;255;0m80.00%\u001b[0m\n",
            " bookshelf: \u001b[38;2;204;255;0m84.00%\u001b[0m\n",
            " bottle: \u001b[38;2;63;255;0m95.00%\u001b[0m\n",
            " bowl: \u001b[38;2;127;255;0m90.00%\u001b[0m\n",
            " car: \u001b[38;2;38;255;0m97.00%\u001b[0m\n",
            " chair: \u001b[38;2;25;255;0m98.00%\u001b[0m\n",
            " cone: \u001b[38;2;63;255;0m95.00%\u001b[0m\n",
            " cup: \u001b[38;2;255;0;0m45.00%\u001b[0m\n",
            " curtain: \u001b[38;2;127;255;0m90.00%\u001b[0m\n",
            " desk: \u001b[38;2;177;255;0m86.05%\u001b[0m\n",
            " door: \u001b[38;2;255;0;0m55.00%\u001b[0m\n",
            " dresser: \u001b[38;2;255;169;0m73.26%\u001b[0m\n",
            " flower_pot: \u001b[38;2;255;0;0m30.00%\u001b[0m\n",
            " glass_box: \u001b[38;2;191;255;0m85.00%\u001b[0m\n",
            " guitar: \u001b[38;2;0;255;0m100.00%\u001b[0m\n",
            " keyboard: \u001b[38;2;63;255;0m95.00%\u001b[0m\n",
            " lamp: \u001b[38;2;255;255;0m80.00%\u001b[0m\n",
            " laptop: \u001b[38;2;0;255;0m100.00%\u001b[0m\n",
            " mantel: \u001b[38;2;38;255;0m97.00%\u001b[0m\n",
            " monitor: \u001b[38;2;38;255;0m97.00%\u001b[0m\n",
            " night_stand: \u001b[38;2;255;80;0m66.28%\u001b[0m\n",
            " person: \u001b[38;2;127;255;0m90.00%\u001b[0m\n",
            " piano: \u001b[38;2;191;255;0m85.00%\u001b[0m\n",
            " plant: \u001b[38;2;255;51;0m64.00%\u001b[0m\n",
            " radio: \u001b[38;2;255;63;0m65.00%\u001b[0m\n",
            " range_hood: \u001b[38;2;76;255;0m94.00%\u001b[0m\n",
            " sink: \u001b[38;2;255;255;0m80.00%\u001b[0m\n",
            " sofa: \u001b[38;2;38;255;0m97.00%\u001b[0m\n",
            " stairs: \u001b[38;2;255;191;0m75.00%\u001b[0m\n",
            " stool: \u001b[38;2;255;63;0m65.00%\u001b[0m\n",
            " table: \u001b[38;2;38;255;0m97.00%\u001b[0m\n",
            " tent: \u001b[38;2;127;255;0m90.00%\u001b[0m\n",
            " toilet: \u001b[38;2;38;255;0m97.00%\u001b[0m\n",
            " tv_stand: \u001b[38;2;255;229;0m78.00%\u001b[0m\n",
            " vase: \u001b[38;2;191;255;0m85.00%\u001b[0m\n",
            " wardrobe: \u001b[38;2;255;0;0m50.00%\u001b[0m\n",
            " xbox: \u001b[38;2;255;191;0m75.00%\u001b[0m\n"
          ]
        }
      ],
      "source": [
        "from pointnet.classification import train_classifier, evaluate_classifier\n",
        "from pointnet.model import PointNetCls\n",
        "import os\n",
        "import torch\n",
        "from utils.string import format_accuracy\n",
        "\n",
        "classifier_path = \"pointnet/cls/cls_model_24.pth\"  # pointnet/cls/cls_model_24.pth\n",
        "\n",
        "if classifier_path and os.path.exists(classifier_path):\n",
        "    print(f\"Loading existing model from {classifier_path}...\")\n",
        "    classifier = PointNetCls(k=len(datasource_info.class_names))\n",
        "    classifier.load_state_dict(torch.load(classifier_path, weights_only=True))\n",
        "    print(\"Classifier loaded successfully.\")\n",
        "\n",
        "    acc, acc_by_class = evaluate_classifier(classifier, test_dataset)\n",
        "\n",
        "    print(f\"Overall accuracy: {format_accuracy(acc)}\")\n",
        "\n",
        "    print(\"Accuracy by class:\")\n",
        "    for i, class_acc in acc_by_class.items():\n",
        "        print(f\" {datasource_info.class_names[i]}: {format_accuracy(class_acc)}\")\n",
        "\n",
        "else:\n",
        "    classifier = train_classifier(\n",
        "        train_dataset=train_dataset,\n",
        "        test_dataset=test_dataset,\n",
        "        k=len(datasource_info.class_names),\n",
        "        epochs=25,\n",
        "        outf=\"./pointnet/cls\",\n",
        "    )"
      ]
    },
    {
      "cell_type": "markdown",
      "metadata": {},
      "source": [
        "Run classification on a random test entry to visualize it:\n"
      ]
    },
    {
      "cell_type": "code",
      "execution_count": 12,
      "metadata": {},
      "outputs": [
        {
          "data": {
            "text/html": [
              "\n",
              "            <details>\n",
              "                <summary>Scores</summary>\n",
              "                <ul>\n",
              "                    <li>-21.250186920166016</li><li>-22.542768478393555</li><li>-11.33160400390625</li><li>-12.975013732910156</li><li>-14.07284927368164</li><li>-18.48518180847168</li><li>-22.87703514099121</li><li>-7.739537239074707</li><li>-14.449506759643555</li><li>-12.285240173339844</li><li>-20.395858764648438</li><li>-19.001373291015625</li><li>-15.13010025024414</li><li>-19.441146850585938</li><li>-14.465713500976562</li><li>-14.503474235534668</li><li>-18.966655731201172</li><li>-21.536941528320312</li><li>-18.071979522705078</li><li>-13.722444534301758</li><li>-18.89032745361328</li><li>-8.502284049987793</li><li>-18.086715698242188</li><li>-14.685726165771484</li><li>-17.72833251953125</li><li>-9.185748100280762</li><li>-16.059415817260742</li><li>-8.11574649810791</li><li>-0.0010851691477000713</li><li>-17.20151710510254</li><li>-17.282047271728516</li><li>-13.83903694152832</li><li>-19.27931022644043</li><li>-19.093786239624023</li><li>-11.719146728515625</li><li>-17.048158645629883</li><li>-13.832136154174805</li><li>-14.889680862426758</li><li>-13.21142578125</li><li>-11.577555656433105</li>\n",
              "                </ul>\n",
              "            </details>\n",
              "            "
            ],
            "text/plain": [
              "<IPython.core.display.HTML object>"
            ]
          },
          "metadata": {},
          "output_type": "display_data"
        },
        {
          "name": "stdout",
          "output_type": "stream",
          "text": [
            "\u001b[32m✓\u001b[0m Predicted class: \u001b[32mrange_hood (28)\u001b[0m\n"
          ]
        },
        {
          "data": {
            "image/png": "[encoded data removed]",
            "text/plain": [
              "<Figure size 640x480 with 1 Axes>"
            ]
          },
          "metadata": {},
          "output_type": "display_data"
        }
      ],
      "source": [
        "import random\n",
        "import torch\n",
        "from utils.plot import plot_points\n",
        "from utils.display import show_collapsible_list\n",
        "\n",
        "i = random.randint(0, len(test_dataset) - 1)\n",
        "\n",
        "input_data = test_dataset[i][0].unsqueeze(0)\n",
        "input_data = input_data.transpose(1, 2)\n",
        "\n",
        "classifier.eval()\n",
        "\n",
        "with torch.no_grad():\n",
        "    output = classifier(input_data)\n",
        "\n",
        "\n",
        "scores: torch.Tensor = output[0][0]\n",
        "exp = int(test_dataset[i][1])\n",
        "pre = scores.argmax().item()\n",
        "show_collapsible_list(\"Scores\", map(lambda x: str(x), scores.tolist()))\n",
        "if exp == pre:\n",
        "    print(\n",
        "        f\"\\033[32m✓\\033[0m Predicted class: \\033[32m{datasource_info.class_names[pre]} ({pre})\\033[0m\"\n",
        "    )\n",
        "else:\n",
        "    print(\n",
        "        f\"\\033[31m✗\\033[0m Predicted class: \\033[31m{datasource_info.class_names[exp]} ({exp})\\033[0m (Expected: {datasource_info.class_names[pre]} ({pre}))\"\n",
        "    )\n",
        "\n",
        "points = input_data[0].transpose(0, 1).numpy()\n",
        "plot_points(points)"
      ]
    },
    {
      "cell_type": "markdown",
      "metadata": {},
      "source": [
        "Train the segmenter:\n"
      ]
    },
    {
      "cell_type": "code",
      "execution_count": 8,
      "metadata": {
        "tags": []
      },
      "outputs": [
        {
          "name": "stdout",
          "output_type": "stream",
          "text": [
            "Random Seed:  2407\n"
          ]
        },
        {
          "ename": "ValueError",
          "evalue": "Expected input batch_size (80000) to match target batch_size (32).",
          "output_type": "error",
          "traceback": [
            "\u001b[0;31m---------------------------------------------------------------------------\u001b[0m",
            "\u001b[0;31mValueError\u001b[0m                                Traceback (most recent call last)",
            "Cell \u001b[0;32mIn[8], line 3\u001b[0m\n\u001b[1;32m      1\u001b[0m \u001b[38;5;28;01mfrom\u001b[39;00m \u001b[38;5;21;01mpointnet\u001b[39;00m\u001b[38;5;21;01m.\u001b[39;00m\u001b[38;5;21;01msegmentation\u001b[39;00m \u001b[38;5;28;01mimport\u001b[39;00m train_segmentation\n\u001b[0;32m----> 3\u001b[0m \u001b[43mtrain_segmentation\u001b[49m\u001b[43m(\u001b[49m\n\u001b[1;32m      4\u001b[0m \u001b[43m    \u001b[49m\u001b[43mtrain_dataset\u001b[49m\u001b[38;5;241;43m=\u001b[39;49m\u001b[43mtrain_dataset\u001b[49m\u001b[43m,\u001b[49m\n\u001b[1;32m      5\u001b[0m \u001b[43m    \u001b[49m\u001b[43mtest_dataset\u001b[49m\u001b[38;5;241;43m=\u001b[39;49m\u001b[43mtest_dataset\u001b[49m\u001b[43m,\u001b[49m\n\u001b[1;32m      6\u001b[0m \u001b[43m    \u001b[49m\u001b[43mk\u001b[49m\u001b[38;5;241;43m=\u001b[39;49m\u001b[38;5;28;43mlen\u001b[39;49m\u001b[43m(\u001b[49m\u001b[43mdatasource_info\u001b[49m\u001b[38;5;241;43m.\u001b[39;49m\u001b[43mclass_names\u001b[49m\u001b[43m)\u001b[49m\u001b[43m,\u001b[49m\n\u001b[1;32m      7\u001b[0m \u001b[43m    \u001b[49m\u001b[43mepochs\u001b[49m\u001b[38;5;241;43m=\u001b[39;49m\u001b[38;5;241;43m25\u001b[39;49m\u001b[43m,\u001b[49m\n\u001b[1;32m      8\u001b[0m \u001b[43m    \u001b[49m\u001b[43mclass_choice\u001b[49m\u001b[38;5;241;43m=\u001b[39;49m\u001b[38;5;241;43m0\u001b[39;49m\u001b[43m,\u001b[49m\n\u001b[1;32m      9\u001b[0m \u001b[43m    \u001b[49m\u001b[43moutf\u001b[49m\u001b[38;5;241;43m=\u001b[39;49m\u001b[38;5;124;43m\"\u001b[39;49m\u001b[38;5;124;43m./pointnet/seg\u001b[39;49m\u001b[38;5;124;43m\"\u001b[39;49m\u001b[43m,\u001b[49m\n\u001b[1;32m     10\u001b[0m \u001b[43m)\u001b[49m\n",
            "File \u001b[0;32m~/research-project-python/pointnet/segmentation.py:71\u001b[0m, in \u001b[0;36mtrain_segmentation\u001b[0;34m(train_dataset, test_dataset, class_choice, k, batchSize, workers, epochs, outf, model, feature_transform)\u001b[0m\n\u001b[1;32m     69\u001b[0m target \u001b[38;5;241m=\u001b[39m target\u001b[38;5;241m.\u001b[39mview(\u001b[38;5;241m-\u001b[39m\u001b[38;5;241m1\u001b[39m, \u001b[38;5;241m1\u001b[39m)[:, \u001b[38;5;241m0\u001b[39m] \u001b[38;5;241m-\u001b[39m \u001b[38;5;241m1\u001b[39m\n\u001b[1;32m     70\u001b[0m \u001b[38;5;66;03m# print(pred.size(), target.size())\u001b[39;00m\n\u001b[0;32m---> 71\u001b[0m loss \u001b[38;5;241m=\u001b[39m \u001b[43mF\u001b[49m\u001b[38;5;241;43m.\u001b[39;49m\u001b[43mnll_loss\u001b[49m\u001b[43m(\u001b[49m\u001b[43mpred\u001b[49m\u001b[43m,\u001b[49m\u001b[43m \u001b[49m\u001b[43mtarget\u001b[49m\u001b[43m)\u001b[49m\n\u001b[1;32m     72\u001b[0m \u001b[38;5;28;01mif\u001b[39;00m feature_transform:\n\u001b[1;32m     73\u001b[0m     loss \u001b[38;5;241m+\u001b[39m\u001b[38;5;241m=\u001b[39m feature_transform_regularizer(trans_feat) \u001b[38;5;241m*\u001b[39m \u001b[38;5;241m0.001\u001b[39m\n",
            "File \u001b[0;32m~/research-project-python/.venv/lib/python3.8/site-packages/torch/nn/functional.py:2778\u001b[0m, in \u001b[0;36mnll_loss\u001b[0;34m(input, target, weight, size_average, ignore_index, reduce, reduction)\u001b[0m\n\u001b[1;32m   2776\u001b[0m \u001b[38;5;28;01mif\u001b[39;00m size_average \u001b[38;5;129;01mis\u001b[39;00m \u001b[38;5;129;01mnot\u001b[39;00m \u001b[38;5;28;01mNone\u001b[39;00m \u001b[38;5;129;01mor\u001b[39;00m reduce \u001b[38;5;129;01mis\u001b[39;00m \u001b[38;5;129;01mnot\u001b[39;00m \u001b[38;5;28;01mNone\u001b[39;00m:\n\u001b[1;32m   2777\u001b[0m     reduction \u001b[38;5;241m=\u001b[39m _Reduction\u001b[38;5;241m.\u001b[39mlegacy_get_string(size_average, reduce)\n\u001b[0;32m-> 2778\u001b[0m \u001b[38;5;28;01mreturn\u001b[39;00m \u001b[43mtorch\u001b[49m\u001b[38;5;241;43m.\u001b[39;49m\u001b[43m_C\u001b[49m\u001b[38;5;241;43m.\u001b[39;49m\u001b[43m_nn\u001b[49m\u001b[38;5;241;43m.\u001b[39;49m\u001b[43mnll_loss_nd\u001b[49m\u001b[43m(\u001b[49m\u001b[38;5;28;43minput\u001b[39;49m\u001b[43m,\u001b[49m\u001b[43m \u001b[49m\u001b[43mtarget\u001b[49m\u001b[43m,\u001b[49m\u001b[43m \u001b[49m\u001b[43mweight\u001b[49m\u001b[43m,\u001b[49m\u001b[43m \u001b[49m\u001b[43m_Reduction\u001b[49m\u001b[38;5;241;43m.\u001b[39;49m\u001b[43mget_enum\u001b[49m\u001b[43m(\u001b[49m\u001b[43mreduction\u001b[49m\u001b[43m)\u001b[49m\u001b[43m,\u001b[49m\u001b[43m \u001b[49m\u001b[43mignore_index\u001b[49m\u001b[43m)\u001b[49m\n",
            "\u001b[0;31mValueError\u001b[0m: Expected input batch_size (80000) to match target batch_size (32)."
          ]
        }
      ],
      "source": [
        "from pointnet.segmentation import train_segmentation\n",
        "\n",
        "train_segmentation(\n",
        "    train_dataset=train_dataset,\n",
        "    test_dataset=test_dataset,\n",
        "    k=len(datasource_info.class_names),\n",
        "    epochs=25,\n",
        "    class_choice=0,\n",
        "    outf=\"./pointnet/seg\",\n",
        ")"
      ]
    },
    {
      "cell_type": "code",
      "execution_count": null,
      "metadata": {},
      "outputs": [],
      "source": [
        " "
      ]
    }
  ],
  "metadata": {
    "kernelspec": {
      "display_name": "Python 3",
      "language": "python",
      "name": "python3"
    },
    "language_info": {
      "codemirror_mode": {
        "name": "ipython",
        "version": 3
      },
      "file_extension": ".py",
      "mimetype": "text/x-python",
      "name": "python",
      "nbconvert_exporter": "python",
      "pygments_lexer": "ipython3",
      "version": "3.10.16"
    }
  },
  "nbformat": 4,
  "nbformat_minor": 4
}
